{
  "cells": [
    {
      "cell_type": "code",
      "execution_count": null,
      "metadata": {
        "id": "1f4li7ut80YK"
      },
      "outputs": [
        {
          "ename": "",
          "evalue": "",
          "output_type": "error",
          "traceback": [
            "\u001b[1;31mFailed to start the Kernel. \n",
            "\u001b[1;31mJupyter server crashed. Unable to connect. \n",
            "\u001b[1;31mError code from Jupyter: 1\n",
            "\u001b[1;31mTraceback (most recent call last):\n",
            "\u001b[1;31m  File \"c:\\Users\\premrasu\\AppData\\Local\\Programs\\Python\\Python310\\lib\\runpy.py\", line 196, in _run_module_as_main\n",
            "\u001b[1;31m    return _run_code(code, main_globals, None,\n",
            "\u001b[1;31m  File \"c:\\Users\\premrasu\\AppData\\Local\\Programs\\Python\\Python310\\lib\\runpy.py\", line 86, in _run_code\n",
            "\u001b[1;31m    exec(code, run_globals)\n",
            "\u001b[1;31m  File \"c:\\Users\\premrasu\\AppData\\Roaming\\Python\\Python310\\Scripts\\jupyter-notebook.EXE\\__main__.py\", line 4, in <module>\n",
            "\u001b[1;31m  File \"C:\\Users\\premrasu\\AppData\\Roaming\\Python\\Python310\\site-packages\\notebook\\notebookapp.py\", line 76, in <module>\n",
            "\u001b[1;31m    from .base.handlers import Template404, RedirectWithParams\n",
            "\u001b[1;31m  File \"C:\\Users\\premrasu\\AppData\\Roaming\\Python\\Python310\\site-packages\\notebook\\base\\handlers.py\", line 35, in <module>\n",
            "\u001b[1;31m    from notebook.utils import is_hidden, url_path_join, url_is_absolute, url_escape, urldecode_unix_socket_path\n",
            "\u001b[1;31mValueError: source code string cannot contain null bytes. \n",
            "\u001b[1;31mView Jupyter <a href='command:jupyter.viewOutput'>log</a> for further details."
          ]
        }
      ],
      "source": [
        "\n",
        "\n",
        "import numpy as np\n",
        "import pandas as pd\n",
        "import matplotlib.pyplot as plt\n",
        "import nltk\n",
        "from nltk.corpus import stopwords\n",
        "from nltk.stem.porter import PorterStemmer\n"
      ]
    },
    {
      "cell_type": "code",
      "execution_count": null,
      "metadata": {
        "colab": {
          "base_uri": "https://localhost:8080/",
          "height": 206
        },
        "id": "4ciphSiNT6w_",
        "outputId": "04a48d55-c7f8-4185-ac0d-88db4b6ae34d"
      },
      "outputs": [
        {
          "ename": "",
          "evalue": "",
          "output_type": "error",
          "traceback": [
            "\u001b[1;31mFailed to start the Kernel. \n",
            "\u001b[1;31mJupyter server crashed. Unable to connect. \n",
            "\u001b[1;31mError code from Jupyter: 1\n",
            "\u001b[1;31mTraceback (most recent call last):\n",
            "\u001b[1;31m  File \"c:\\Users\\premrasu\\AppData\\Local\\Programs\\Python\\Python310\\lib\\runpy.py\", line 196, in _run_module_as_main\n",
            "\u001b[1;31m    return _run_code(code, main_globals, None,\n",
            "\u001b[1;31m  File \"c:\\Users\\premrasu\\AppData\\Local\\Programs\\Python\\Python310\\lib\\runpy.py\", line 86, in _run_code\n",
            "\u001b[1;31m    exec(code, run_globals)\n",
            "\u001b[1;31m  File \"c:\\Users\\premrasu\\AppData\\Roaming\\Python\\Python310\\Scripts\\jupyter-notebook.EXE\\__main__.py\", line 4, in <module>\n",
            "\u001b[1;31m  File \"C:\\Users\\premrasu\\AppData\\Roaming\\Python\\Python310\\site-packages\\notebook\\notebookapp.py\", line 76, in <module>\n",
            "\u001b[1;31m    from .base.handlers import Template404, RedirectWithParams\n",
            "\u001b[1;31m  File \"C:\\Users\\premrasu\\AppData\\Roaming\\Python\\Python310\\site-packages\\notebook\\base\\handlers.py\", line 35, in <module>\n",
            "\u001b[1;31m    from notebook.utils import is_hidden, url_path_join, url_is_absolute, url_escape, urldecode_unix_socket_path\n",
            "\u001b[1;31mValueError: source code string cannot contain null bytes. \n",
            "\u001b[1;31mView Jupyter <a href='command:jupyter.viewOutput'>log</a> for further details."
          ]
        }
      ],
      "source": [
        "df=pd.read_csv(\"C:\\Users\\premrasu\\Desktop\\optimizing spam filter\\dataset\\spam.csv\",encoding=\"latin\")\n",
        "df.head()"
      ]
    },
    {
      "cell_type": "code",
      "execution_count": null,
      "metadata": {
        "colab": {
          "base_uri": "https://localhost:8080/"
        },
        "id": "aIfWsA3gUpaR",
        "outputId": "0b82f59f-57cd-4b04-e9ec-98b6bbf3cd93"
      },
      "outputs": [
        {
          "ename": "",
          "evalue": "",
          "output_type": "error",
          "traceback": [
            "\u001b[1;31mFailed to start the Kernel. \n",
            "\u001b[1;31mJupyter server crashed. Unable to connect. \n",
            "\u001b[1;31mError code from Jupyter: 1\n",
            "\u001b[1;31mTraceback (most recent call last):\n",
            "\u001b[1;31m  File \"c:\\Users\\premrasu\\AppData\\Local\\Programs\\Python\\Python310\\lib\\runpy.py\", line 196, in _run_module_as_main\n",
            "\u001b[1;31m    return _run_code(code, main_globals, None,\n",
            "\u001b[1;31m  File \"c:\\Users\\premrasu\\AppData\\Local\\Programs\\Python\\Python310\\lib\\runpy.py\", line 86, in _run_code\n",
            "\u001b[1;31m    exec(code, run_globals)\n",
            "\u001b[1;31m  File \"c:\\Users\\premrasu\\AppData\\Roaming\\Python\\Python310\\Scripts\\jupyter-notebook.EXE\\__main__.py\", line 4, in <module>\n",
            "\u001b[1;31m  File \"C:\\Users\\premrasu\\AppData\\Roaming\\Python\\Python310\\site-packages\\notebook\\notebookapp.py\", line 76, in <module>\n",
            "\u001b[1;31m    from .base.handlers import Template404, RedirectWithParams\n",
            "\u001b[1;31m  File \"C:\\Users\\premrasu\\AppData\\Roaming\\Python\\Python310\\site-packages\\notebook\\base\\handlers.py\", line 35, in <module>\n",
            "\u001b[1;31m    from notebook.utils import is_hidden, url_path_join, url_is_absolute, url_escape, urldecode_unix_socket_path\n",
            "\u001b[1;31mValueError: source code string cannot contain null bytes. \n",
            "\u001b[1;31mView Jupyter <a href='command:jupyter.viewOutput'>log</a> for further details."
          ]
        }
      ],
      "source": [
        "df.info()"
      ]
    },
    {
      "cell_type": "code",
      "execution_count": null,
      "metadata": {
        "colab": {
          "base_uri": "https://localhost:8080/"
        },
        "id": "sHnpmW3blifh",
        "outputId": "8a35011a-5941-4106-bba8-da30a441a993"
      },
      "outputs": [
        {
          "ename": "",
          "evalue": "",
          "output_type": "error",
          "traceback": [
            "\u001b[1;31mFailed to start the Kernel. \n",
            "\u001b[1;31mJupyter server crashed. Unable to connect. \n",
            "\u001b[1;31mError code from Jupyter: 1\n",
            "\u001b[1;31mTraceback (most recent call last):\n",
            "\u001b[1;31m  File \"c:\\Users\\premrasu\\AppData\\Local\\Programs\\Python\\Python310\\lib\\runpy.py\", line 196, in _run_module_as_main\n",
            "\u001b[1;31m    return _run_code(code, main_globals, None,\n",
            "\u001b[1;31m  File \"c:\\Users\\premrasu\\AppData\\Local\\Programs\\Python\\Python310\\lib\\runpy.py\", line 86, in _run_code\n",
            "\u001b[1;31m    exec(code, run_globals)\n",
            "\u001b[1;31m  File \"c:\\Users\\premrasu\\AppData\\Roaming\\Python\\Python310\\Scripts\\jupyter-notebook.EXE\\__main__.py\", line 4, in <module>\n",
            "\u001b[1;31m  File \"C:\\Users\\premrasu\\AppData\\Roaming\\Python\\Python310\\site-packages\\notebook\\notebookapp.py\", line 76, in <module>\n",
            "\u001b[1;31m    from .base.handlers import Template404, RedirectWithParams\n",
            "\u001b[1;31m  File \"C:\\Users\\premrasu\\AppData\\Roaming\\Python\\Python310\\site-packages\\notebook\\base\\handlers.py\", line 35, in <module>\n",
            "\u001b[1;31m    from notebook.utils import is_hidden, url_path_join, url_is_absolute, url_escape, urldecode_unix_socket_path\n",
            "\u001b[1;31mValueError: source code string cannot contain null bytes. \n",
            "\u001b[1;31mView Jupyter <a href='command:jupyter.viewOutput'>log</a> for further details."
          ]
        }
      ],
      "source": [
        "df.isna().sum()"
      ]
    },
    {
      "cell_type": "code",
      "execution_count": null,
      "metadata": {
        "id": "-wZaSrqUm1ET"
      },
      "outputs": [
        {
          "ename": "",
          "evalue": "",
          "output_type": "error",
          "traceback": [
            "\u001b[1;31mFailed to start the Kernel. \n",
            "\u001b[1;31mJupyter server crashed. Unable to connect. \n",
            "\u001b[1;31mError code from Jupyter: 1\n",
            "\u001b[1;31mTraceback (most recent call last):\n",
            "\u001b[1;31m  File \"c:\\Users\\premrasu\\AppData\\Local\\Programs\\Python\\Python310\\lib\\runpy.py\", line 196, in _run_module_as_main\n",
            "\u001b[1;31m    return _run_code(code, main_globals, None,\n",
            "\u001b[1;31m  File \"c:\\Users\\premrasu\\AppData\\Local\\Programs\\Python\\Python310\\lib\\runpy.py\", line 86, in _run_code\n",
            "\u001b[1;31m    exec(code, run_globals)\n",
            "\u001b[1;31m  File \"c:\\Users\\premrasu\\AppData\\Roaming\\Python\\Python310\\Scripts\\jupyter-notebook.EXE\\__main__.py\", line 4, in <module>\n",
            "\u001b[1;31m  File \"C:\\Users\\premrasu\\AppData\\Roaming\\Python\\Python310\\site-packages\\notebook\\notebookapp.py\", line 76, in <module>\n",
            "\u001b[1;31m    from .base.handlers import Template404, RedirectWithParams\n",
            "\u001b[1;31m  File \"C:\\Users\\premrasu\\AppData\\Roaming\\Python\\Python310\\site-packages\\notebook\\base\\handlers.py\", line 35, in <module>\n",
            "\u001b[1;31m    from notebook.utils import is_hidden, url_path_join, url_is_absolute, url_escape, urldecode_unix_socket_path\n",
            "\u001b[1;31mValueError: source code string cannot contain null bytes. \n",
            "\u001b[1;31mView Jupyter <a href='command:jupyter.viewOutput'>log</a> for further details."
          ]
        }
      ],
      "source": [
        "df.rename({\"v1\":\"label\",\"v2\":\"text\"},inplace=True,axis=1)"
      ]
    },
    {
      "cell_type": "code",
      "execution_count": null,
      "metadata": {
        "colab": {
          "base_uri": "https://localhost:8080/",
          "height": 206
        },
        "id": "zDhvPCuKngkp",
        "outputId": "397521d7-074b-4fbe-cff2-db4ed829a902"
      },
      "outputs": [
        {
          "ename": "",
          "evalue": "",
          "output_type": "error",
          "traceback": [
            "\u001b[1;31mFailed to start the Kernel. \n",
            "\u001b[1;31mJupyter server crashed. Unable to connect. \n",
            "\u001b[1;31mError code from Jupyter: 1\n",
            "\u001b[1;31mTraceback (most recent call last):\n",
            "\u001b[1;31m  File \"c:\\Users\\premrasu\\AppData\\Local\\Programs\\Python\\Python310\\lib\\runpy.py\", line 196, in _run_module_as_main\n",
            "\u001b[1;31m    return _run_code(code, main_globals, None,\n",
            "\u001b[1;31m  File \"c:\\Users\\premrasu\\AppData\\Local\\Programs\\Python\\Python310\\lib\\runpy.py\", line 86, in _run_code\n",
            "\u001b[1;31m    exec(code, run_globals)\n",
            "\u001b[1;31m  File \"c:\\Users\\premrasu\\AppData\\Roaming\\Python\\Python310\\Scripts\\jupyter-notebook.EXE\\__main__.py\", line 4, in <module>\n",
            "\u001b[1;31m  File \"C:\\Users\\premrasu\\AppData\\Roaming\\Python\\Python310\\site-packages\\notebook\\notebookapp.py\", line 76, in <module>\n",
            "\u001b[1;31m    from .base.handlers import Template404, RedirectWithParams\n",
            "\u001b[1;31m  File \"C:\\Users\\premrasu\\AppData\\Roaming\\Python\\Python310\\site-packages\\notebook\\base\\handlers.py\", line 35, in <module>\n",
            "\u001b[1;31m    from notebook.utils import is_hidden, url_path_join, url_is_absolute, url_escape, urldecode_unix_socket_path\n",
            "\u001b[1;31mValueError: source code string cannot contain null bytes. \n",
            "\u001b[1;31mView Jupyter <a href='command:jupyter.viewOutput'>log</a> for further details."
          ]
        }
      ],
      "source": [
        "df.tail()"
      ]
    },
    {
      "cell_type": "code",
      "execution_count": null,
      "metadata": {
        "id": "2mYt-o0fVJ79"
      },
      "outputs": [
        {
          "ename": "",
          "evalue": "",
          "output_type": "error",
          "traceback": [
            "\u001b[1;31mFailed to start the Kernel. \n",
            "\u001b[1;31mJupyter server crashed. Unable to connect. \n",
            "\u001b[1;31mError code from Jupyter: 1\n",
            "\u001b[1;31mTraceback (most recent call last):\n",
            "\u001b[1;31m  File \"c:\\Users\\premrasu\\AppData\\Local\\Programs\\Python\\Python310\\lib\\runpy.py\", line 196, in _run_module_as_main\n",
            "\u001b[1;31m    return _run_code(code, main_globals, None,\n",
            "\u001b[1;31m  File \"c:\\Users\\premrasu\\AppData\\Local\\Programs\\Python\\Python310\\lib\\runpy.py\", line 86, in _run_code\n",
            "\u001b[1;31m    exec(code, run_globals)\n",
            "\u001b[1;31m  File \"c:\\Users\\premrasu\\AppData\\Roaming\\Python\\Python310\\Scripts\\jupyter-notebook.EXE\\__main__.py\", line 4, in <module>\n",
            "\u001b[1;31m  File \"C:\\Users\\premrasu\\AppData\\Roaming\\Python\\Python310\\site-packages\\notebook\\notebookapp.py\", line 76, in <module>\n",
            "\u001b[1;31m    from .base.handlers import Template404, RedirectWithParams\n",
            "\u001b[1;31m  File \"C:\\Users\\premrasu\\AppData\\Roaming\\Python\\Python310\\site-packages\\notebook\\base\\handlers.py\", line 35, in <module>\n",
            "\u001b[1;31m    from notebook.utils import is_hidden, url_path_join, url_is_absolute, url_escape, urldecode_unix_socket_path\n",
            "\u001b[1;31mValueError: source code string cannot contain null bytes. \n",
            "\u001b[1;31mView Jupyter <a href='command:jupyter.viewOutput'>log</a> for further details."
          ]
        }
      ],
      "source": [
        "from sklearn.preprocessing import LabelEncoder\n",
        "le=LabelEncoder()\n",
        "df['label']=le.fit_transform(df['label'])"
      ]
    },
    {
      "cell_type": "code",
      "execution_count": null,
      "metadata": {
        "id": "UCNk9cP-t2RA"
      },
      "outputs": [
        {
          "ename": "",
          "evalue": "",
          "output_type": "error",
          "traceback": [
            "\u001b[1;31mFailed to start the Kernel. \n",
            "\u001b[1;31mJupyter server crashed. Unable to connect. \n",
            "\u001b[1;31mError code from Jupyter: 1\n",
            "\u001b[1;31mTraceback (most recent call last):\n",
            "\u001b[1;31m  File \"c:\\Users\\premrasu\\AppData\\Local\\Programs\\Python\\Python310\\lib\\runpy.py\", line 196, in _run_module_as_main\n",
            "\u001b[1;31m    return _run_code(code, main_globals, None,\n",
            "\u001b[1;31m  File \"c:\\Users\\premrasu\\AppData\\Local\\Programs\\Python\\Python310\\lib\\runpy.py\", line 86, in _run_code\n",
            "\u001b[1;31m    exec(code, run_globals)\n",
            "\u001b[1;31m  File \"c:\\Users\\premrasu\\AppData\\Roaming\\Python\\Python310\\Scripts\\jupyter-notebook.EXE\\__main__.py\", line 4, in <module>\n",
            "\u001b[1;31m  File \"C:\\Users\\premrasu\\AppData\\Roaming\\Python\\Python310\\site-packages\\notebook\\notebookapp.py\", line 76, in <module>\n",
            "\u001b[1;31m    from .base.handlers import Template404, RedirectWithParams\n",
            "\u001b[1;31m  File \"C:\\Users\\premrasu\\AppData\\Roaming\\Python\\Python310\\site-packages\\notebook\\base\\handlers.py\", line 35, in <module>\n",
            "\u001b[1;31m    from notebook.utils import is_hidden, url_path_join, url_is_absolute, url_escape, urldecode_unix_socket_path\n",
            "\u001b[1;31mValueError: source code string cannot contain null bytes. \n",
            "\u001b[1;31mView Jupyter <a href='command:jupyter.viewOutput'>log</a> for further details."
          ]
        }
      ],
      "source": [
        "df.columns=['label','text','unnamed:0','unnamed:1','unnamed:2']"
      ]
    },
    {
      "cell_type": "code",
      "execution_count": null,
      "metadata": {
        "colab": {
          "base_uri": "https://localhost:8080/",
          "height": 206
        },
        "id": "Tul2F8ABt2dK",
        "outputId": "0605904b-7c34-43d9-fd81-410a184297bf"
      },
      "outputs": [
        {
          "ename": "",
          "evalue": "",
          "output_type": "error",
          "traceback": [
            "\u001b[1;31mFailed to start the Kernel. \n",
            "\u001b[1;31mJupyter server crashed. Unable to connect. \n",
            "\u001b[1;31mError code from Jupyter: 1\n",
            "\u001b[1;31mTraceback (most recent call last):\n",
            "\u001b[1;31m  File \"c:\\Users\\premrasu\\AppData\\Local\\Programs\\Python\\Python310\\lib\\runpy.py\", line 196, in _run_module_as_main\n",
            "\u001b[1;31m    return _run_code(code, main_globals, None,\n",
            "\u001b[1;31m  File \"c:\\Users\\premrasu\\AppData\\Local\\Programs\\Python\\Python310\\lib\\runpy.py\", line 86, in _run_code\n",
            "\u001b[1;31m    exec(code, run_globals)\n",
            "\u001b[1;31m  File \"c:\\Users\\premrasu\\AppData\\Roaming\\Python\\Python310\\Scripts\\jupyter-notebook.EXE\\__main__.py\", line 4, in <module>\n",
            "\u001b[1;31m  File \"C:\\Users\\premrasu\\AppData\\Roaming\\Python\\Python310\\site-packages\\notebook\\notebookapp.py\", line 76, in <module>\n",
            "\u001b[1;31m    from .base.handlers import Template404, RedirectWithParams\n",
            "\u001b[1;31m  File \"C:\\Users\\premrasu\\AppData\\Roaming\\Python\\Python310\\site-packages\\notebook\\base\\handlers.py\", line 35, in <module>\n",
            "\u001b[1;31m    from notebook.utils import is_hidden, url_path_join, url_is_absolute, url_escape, urldecode_unix_socket_path\n",
            "\u001b[1;31mValueError: source code string cannot contain null bytes. \n",
            "\u001b[1;31mView Jupyter <a href='command:jupyter.viewOutput'>log</a> for further details."
          ]
        }
      ],
      "source": [
        "df.head()"
      ]
    },
    {
      "cell_type": "code",
      "execution_count": null,
      "metadata": {
        "colab": {
          "base_uri": "https://localhost:8080/"
        },
        "id": "HIPG-ccz9iZO",
        "outputId": "1c296b0e-8d97-4255-f8c1-b61f3fef5f0f"
      },
      "outputs": [
        {
          "ename": "",
          "evalue": "",
          "output_type": "error",
          "traceback": [
            "\u001b[1;31mFailed to start the Kernel. \n",
            "\u001b[1;31mJupyter server crashed. Unable to connect. \n",
            "\u001b[1;31mError code from Jupyter: 1\n",
            "\u001b[1;31mTraceback (most recent call last):\n",
            "\u001b[1;31m  File \"c:\\Users\\premrasu\\AppData\\Local\\Programs\\Python\\Python310\\lib\\runpy.py\", line 196, in _run_module_as_main\n",
            "\u001b[1;31m    return _run_code(code, main_globals, None,\n",
            "\u001b[1;31m  File \"c:\\Users\\premrasu\\AppData\\Local\\Programs\\Python\\Python310\\lib\\runpy.py\", line 86, in _run_code\n",
            "\u001b[1;31m    exec(code, run_globals)\n",
            "\u001b[1;31m  File \"c:\\Users\\premrasu\\AppData\\Roaming\\Python\\Python310\\Scripts\\jupyter-notebook.EXE\\__main__.py\", line 4, in <module>\n",
            "\u001b[1;31m  File \"C:\\Users\\premrasu\\AppData\\Roaming\\Python\\Python310\\site-packages\\notebook\\notebookapp.py\", line 76, in <module>\n",
            "\u001b[1;31m    from .base.handlers import Template404, RedirectWithParams\n",
            "\u001b[1;31m  File \"C:\\Users\\premrasu\\AppData\\Roaming\\Python\\Python310\\site-packages\\notebook\\base\\handlers.py\", line 35, in <module>\n",
            "\u001b[1;31m    from notebook.utils import is_hidden, url_path_join, url_is_absolute, url_escape, urldecode_unix_socket_path\n",
            "\u001b[1;31mValueError: source code string cannot contain null bytes. \n",
            "\u001b[1;31mView Jupyter <a href='command:jupyter.viewOutput'>log</a> for further details."
          ]
        }
      ],
      "source": [
        "\n",
        "df.shape"
      ]
    },
    {
      "cell_type": "code",
      "execution_count": null,
      "metadata": {
        "id": "GLpKrPaS92X-"
      },
      "outputs": [
        {
          "ename": "",
          "evalue": "",
          "output_type": "error",
          "traceback": [
            "\u001b[1;31mFailed to start the Kernel. \n",
            "\u001b[1;31mJupyter server crashed. Unable to connect. \n",
            "\u001b[1;31mError code from Jupyter: 1\n",
            "\u001b[1;31mTraceback (most recent call last):\n",
            "\u001b[1;31m  File \"c:\\Users\\premrasu\\AppData\\Local\\Programs\\Python\\Python310\\lib\\runpy.py\", line 196, in _run_module_as_main\n",
            "\u001b[1;31m    return _run_code(code, main_globals, None,\n",
            "\u001b[1;31m  File \"c:\\Users\\premrasu\\AppData\\Local\\Programs\\Python\\Python310\\lib\\runpy.py\", line 86, in _run_code\n",
            "\u001b[1;31m    exec(code, run_globals)\n",
            "\u001b[1;31m  File \"c:\\Users\\premrasu\\AppData\\Roaming\\Python\\Python310\\Scripts\\jupyter-notebook.EXE\\__main__.py\", line 4, in <module>\n",
            "\u001b[1;31m  File \"C:\\Users\\premrasu\\AppData\\Roaming\\Python\\Python310\\site-packages\\notebook\\notebookapp.py\", line 76, in <module>\n",
            "\u001b[1;31m    from .base.handlers import Template404, RedirectWithParams\n",
            "\u001b[1;31m  File \"C:\\Users\\premrasu\\AppData\\Roaming\\Python\\Python310\\site-packages\\notebook\\base\\handlers.py\", line 35, in <module>\n",
            "\u001b[1;31m    from notebook.utils import is_hidden, url_path_join, url_is_absolute, url_escape, urldecode_unix_socket_path\n",
            "\u001b[1;31mValueError: source code string cannot contain null bytes. \n",
            "\u001b[1;31mView Jupyter <a href='command:jupyter.viewOutput'>log</a> for further details."
          ]
        }
      ],
      "source": [
        "\n",
        "X=df.loc[:,'text']\n",
        "y=df.loc[:,'label'].values"
      ]
    },
    {
      "cell_type": "code",
      "execution_count": null,
      "metadata": {
        "colab": {
          "base_uri": "https://localhost:8080/",
          "height": 35
        },
        "id": "dwCJEVnD_AdK",
        "outputId": "ef828f36-3eb4-4d2a-eff4-fc83ef8c1760"
      },
      "outputs": [
        {
          "ename": "",
          "evalue": "",
          "output_type": "error",
          "traceback": [
            "\u001b[1;31mFailed to start the Kernel. \n",
            "\u001b[1;31mJupyter server crashed. Unable to connect. \n",
            "\u001b[1;31mError code from Jupyter: 1\n",
            "\u001b[1;31mTraceback (most recent call last):\n",
            "\u001b[1;31m  File \"c:\\Users\\premrasu\\AppData\\Local\\Programs\\Python\\Python310\\lib\\runpy.py\", line 196, in _run_module_as_main\n",
            "\u001b[1;31m    return _run_code(code, main_globals, None,\n",
            "\u001b[1;31m  File \"c:\\Users\\premrasu\\AppData\\Local\\Programs\\Python\\Python310\\lib\\runpy.py\", line 86, in _run_code\n",
            "\u001b[1;31m    exec(code, run_globals)\n",
            "\u001b[1;31m  File \"c:\\Users\\premrasu\\AppData\\Roaming\\Python\\Python310\\Scripts\\jupyter-notebook.EXE\\__main__.py\", line 4, in <module>\n",
            "\u001b[1;31m  File \"C:\\Users\\premrasu\\AppData\\Roaming\\Python\\Python310\\site-packages\\notebook\\notebookapp.py\", line 76, in <module>\n",
            "\u001b[1;31m    from .base.handlers import Template404, RedirectWithParams\n",
            "\u001b[1;31m  File \"C:\\Users\\premrasu\\AppData\\Roaming\\Python\\Python310\\site-packages\\notebook\\base\\handlers.py\", line 35, in <module>\n",
            "\u001b[1;31m    from notebook.utils import is_hidden, url_path_join, url_is_absolute, url_escape, urldecode_unix_socket_path\n",
            "\u001b[1;31mValueError: source code string cannot contain null bytes. \n",
            "\u001b[1;31mView Jupyter <a href='command:jupyter.viewOutput'>log</a> for further details."
          ]
        }
      ],
      "source": [
        "X[1]\n",
        "     "
      ]
    },
    {
      "cell_type": "code",
      "execution_count": null,
      "metadata": {
        "id": "VXj5TbWH_H7x"
      },
      "outputs": [
        {
          "ename": "",
          "evalue": "",
          "output_type": "error",
          "traceback": [
            "\u001b[1;31mFailed to start the Kernel. \n",
            "\u001b[1;31mJupyter server crashed. Unable to connect. \n",
            "\u001b[1;31mError code from Jupyter: 1\n",
            "\u001b[1;31mTraceback (most recent call last):\n",
            "\u001b[1;31m  File \"c:\\Users\\premrasu\\AppData\\Local\\Programs\\Python\\Python310\\lib\\runpy.py\", line 196, in _run_module_as_main\n",
            "\u001b[1;31m    return _run_code(code, main_globals, None,\n",
            "\u001b[1;31m  File \"c:\\Users\\premrasu\\AppData\\Local\\Programs\\Python\\Python310\\lib\\runpy.py\", line 86, in _run_code\n",
            "\u001b[1;31m    exec(code, run_globals)\n",
            "\u001b[1;31m  File \"c:\\Users\\premrasu\\AppData\\Roaming\\Python\\Python310\\Scripts\\jupyter-notebook.EXE\\__main__.py\", line 4, in <module>\n",
            "\u001b[1;31m  File \"C:\\Users\\premrasu\\AppData\\Roaming\\Python\\Python310\\site-packages\\notebook\\notebookapp.py\", line 76, in <module>\n",
            "\u001b[1;31m    from .base.handlers import Template404, RedirectWithParams\n",
            "\u001b[1;31m  File \"C:\\Users\\premrasu\\AppData\\Roaming\\Python\\Python310\\site-packages\\notebook\\base\\handlers.py\", line 35, in <module>\n",
            "\u001b[1;31m    from notebook.utils import is_hidden, url_path_join, url_is_absolute, url_escape, urldecode_unix_socket_path\n",
            "\u001b[1;31mValueError: source code string cannot contain null bytes. \n",
            "\u001b[1;31mView Jupyter <a href='command:jupyter.viewOutput'>log</a> for further details."
          ]
        }
      ],
      "source": [
        "from sklearn.feature_extraction.text import CountVectorizer\n",
        "cv=CountVectorizer(max_features=35000)\n",
        "\n",
        "X=cv.fit_transform(X).toarray()"
      ]
    },
    {
      "cell_type": "code",
      "execution_count": null,
      "metadata": {
        "colab": {
          "base_uri": "https://localhost:8080/"
        },
        "id": "ebUogsfa_LQk",
        "outputId": "2d74325c-7709-4b2c-d0b1-14db6f86f1e5"
      },
      "outputs": [
        {
          "ename": "",
          "evalue": "",
          "output_type": "error",
          "traceback": [
            "\u001b[1;31mFailed to start the Kernel. \n",
            "\u001b[1;31mJupyter server crashed. Unable to connect. \n",
            "\u001b[1;31mError code from Jupyter: 1\n",
            "\u001b[1;31mTraceback (most recent call last):\n",
            "\u001b[1;31m  File \"c:\\Users\\premrasu\\AppData\\Local\\Programs\\Python\\Python310\\lib\\runpy.py\", line 196, in _run_module_as_main\n",
            "\u001b[1;31m    return _run_code(code, main_globals, None,\n",
            "\u001b[1;31m  File \"c:\\Users\\premrasu\\AppData\\Local\\Programs\\Python\\Python310\\lib\\runpy.py\", line 86, in _run_code\n",
            "\u001b[1;31m    exec(code, run_globals)\n",
            "\u001b[1;31m  File \"c:\\Users\\premrasu\\AppData\\Roaming\\Python\\Python310\\Scripts\\jupyter-notebook.EXE\\__main__.py\", line 4, in <module>\n",
            "\u001b[1;31m  File \"C:\\Users\\premrasu\\AppData\\Roaming\\Python\\Python310\\site-packages\\notebook\\notebookapp.py\", line 76, in <module>\n",
            "\u001b[1;31m    from .base.handlers import Template404, RedirectWithParams\n",
            "\u001b[1;31m  File \"C:\\Users\\premrasu\\AppData\\Roaming\\Python\\Python310\\site-packages\\notebook\\base\\handlers.py\", line 35, in <module>\n",
            "\u001b[1;31m    from notebook.utils import is_hidden, url_path_join, url_is_absolute, url_escape, urldecode_unix_socket_path\n",
            "\u001b[1;31mValueError: source code string cannot contain null bytes. \n",
            "\u001b[1;31mView Jupyter <a href='command:jupyter.viewOutput'>log</a> for further details."
          ]
        }
      ],
      "source": [
        "\n",
        "X[1]"
      ]
    },
    {
      "cell_type": "code",
      "execution_count": null,
      "metadata": {
        "id": "LwSTgJ3yr_1o"
      },
      "outputs": [
        {
          "ename": "",
          "evalue": "",
          "output_type": "error",
          "traceback": [
            "\u001b[1;31mFailed to start the Kernel. \n",
            "\u001b[1;31mJupyter server crashed. Unable to connect. \n",
            "\u001b[1;31mError code from Jupyter: 1\n",
            "\u001b[1;31mTraceback (most recent call last):\n",
            "\u001b[1;31m  File \"c:\\Users\\premrasu\\AppData\\Local\\Programs\\Python\\Python310\\lib\\runpy.py\", line 196, in _run_module_as_main\n",
            "\u001b[1;31m    return _run_code(code, main_globals, None,\n",
            "\u001b[1;31m  File \"c:\\Users\\premrasu\\AppData\\Local\\Programs\\Python\\Python310\\lib\\runpy.py\", line 86, in _run_code\n",
            "\u001b[1;31m    exec(code, run_globals)\n",
            "\u001b[1;31m  File \"c:\\Users\\premrasu\\AppData\\Roaming\\Python\\Python310\\Scripts\\jupyter-notebook.EXE\\__main__.py\", line 4, in <module>\n",
            "\u001b[1;31m  File \"C:\\Users\\premrasu\\AppData\\Roaming\\Python\\Python310\\site-packages\\notebook\\notebookapp.py\", line 76, in <module>\n",
            "\u001b[1;31m    from .base.handlers import Template404, RedirectWithParams\n",
            "\u001b[1;31m  File \"C:\\Users\\premrasu\\AppData\\Roaming\\Python\\Python310\\site-packages\\notebook\\base\\handlers.py\", line 35, in <module>\n",
            "\u001b[1;31m    from notebook.utils import is_hidden, url_path_join, url_is_absolute, url_escape, urldecode_unix_socket_path\n",
            "\u001b[1;31mValueError: source code string cannot contain null bytes. \n",
            "\u001b[1;31mView Jupyter <a href='command:jupyter.viewOutput'>log</a> for further details."
          ]
        }
      ],
      "source": [
        "from sklearn.model_selection import train_test_split\n",
        "X_train,X_test,y_train,y_test = train_test_split(X,y, test_size=0.20,random_state=0)"
      ]
    },
    {
      "cell_type": "code",
      "execution_count": null,
      "metadata": {
        "colab": {
          "base_uri": "https://localhost:8080/"
        },
        "id": "KlyrEtQ3sGH4",
        "outputId": "64aed8c9-2329-4f7c-db59-4872ad705093"
      },
      "outputs": [
        {
          "ename": "",
          "evalue": "",
          "output_type": "error",
          "traceback": [
            "\u001b[1;31mFailed to start the Kernel. \n",
            "\u001b[1;31mJupyter server crashed. Unable to connect. \n",
            "\u001b[1;31mError code from Jupyter: 1\n",
            "\u001b[1;31mTraceback (most recent call last):\n",
            "\u001b[1;31m  File \"c:\\Users\\premrasu\\AppData\\Local\\Programs\\Python\\Python310\\lib\\runpy.py\", line 196, in _run_module_as_main\n",
            "\u001b[1;31m    return _run_code(code, main_globals, None,\n",
            "\u001b[1;31m  File \"c:\\Users\\premrasu\\AppData\\Local\\Programs\\Python\\Python310\\lib\\runpy.py\", line 86, in _run_code\n",
            "\u001b[1;31m    exec(code, run_globals)\n",
            "\u001b[1;31m  File \"c:\\Users\\premrasu\\AppData\\Roaming\\Python\\Python310\\Scripts\\jupyter-notebook.EXE\\__main__.py\", line 4, in <module>\n",
            "\u001b[1;31m  File \"C:\\Users\\premrasu\\AppData\\Roaming\\Python\\Python310\\site-packages\\notebook\\notebookapp.py\", line 76, in <module>\n",
            "\u001b[1;31m    from .base.handlers import Template404, RedirectWithParams\n",
            "\u001b[1;31m  File \"C:\\Users\\premrasu\\AppData\\Roaming\\Python\\Python310\\site-packages\\notebook\\base\\handlers.py\", line 35, in <module>\n",
            "\u001b[1;31m    from notebook.utils import is_hidden, url_path_join, url_is_absolute, url_escape, urldecode_unix_socket_path\n",
            "\u001b[1;31mValueError: source code string cannot contain null bytes. \n",
            "\u001b[1;31mView Jupyter <a href='command:jupyter.viewOutput'>log</a> for further details."
          ]
        }
      ],
      "source": [
        "print(\"Befor over sampling, counts of label '1':{}\".format(sum(y_train==1)))\n",
        "print(\"Befor over sampling, counts of label '0' :{} \\n\".format(sum(y_train==0)))\n",
        "\n",
        "from imblearn.over_sampling import SMOTE\n",
        "sm = SMOTE(random_state=2)\n",
        "X_train_res,y_train_res = sm.fit_resample(X_train,y_train.ravel())"
      ]
    },
    {
      "cell_type": "code",
      "execution_count": null,
      "metadata": {
        "colab": {
          "base_uri": "https://localhost:8080/"
        },
        "id": "XU4gNeK4KI61",
        "outputId": "c3de92e4-891e-4007-a5d1-6018fba0c356"
      },
      "outputs": [
        {
          "ename": "",
          "evalue": "",
          "output_type": "error",
          "traceback": [
            "\u001b[1;31mFailed to start the Kernel. \n",
            "\u001b[1;31mJupyter server crashed. Unable to connect. \n",
            "\u001b[1;31mError code from Jupyter: 1\n",
            "\u001b[1;31mTraceback (most recent call last):\n",
            "\u001b[1;31m  File \"c:\\Users\\premrasu\\AppData\\Local\\Programs\\Python\\Python310\\lib\\runpy.py\", line 196, in _run_module_as_main\n",
            "\u001b[1;31m    return _run_code(code, main_globals, None,\n",
            "\u001b[1;31m  File \"c:\\Users\\premrasu\\AppData\\Local\\Programs\\Python\\Python310\\lib\\runpy.py\", line 86, in _run_code\n",
            "\u001b[1;31m    exec(code, run_globals)\n",
            "\u001b[1;31m  File \"c:\\Users\\premrasu\\AppData\\Roaming\\Python\\Python310\\Scripts\\jupyter-notebook.EXE\\__main__.py\", line 4, in <module>\n",
            "\u001b[1;31m  File \"C:\\Users\\premrasu\\AppData\\Roaming\\Python\\Python310\\site-packages\\notebook\\notebookapp.py\", line 76, in <module>\n",
            "\u001b[1;31m    from .base.handlers import Template404, RedirectWithParams\n",
            "\u001b[1;31m  File \"C:\\Users\\premrasu\\AppData\\Roaming\\Python\\Python310\\site-packages\\notebook\\base\\handlers.py\", line 35, in <module>\n",
            "\u001b[1;31m    from notebook.utils import is_hidden, url_path_join, url_is_absolute, url_escape, urldecode_unix_socket_path\n",
            "\u001b[1;31mValueError: source code string cannot contain null bytes. \n",
            "\u001b[1;31mView Jupyter <a href='command:jupyter.viewOutput'>log</a> for further details."
          ]
        }
      ],
      "source": [
        "print(\" After oversampling, the shape of train_x:{}\".format (X_train_res.shape))\n",
        "print(\" After oversampling, the shape of train_y:{}\\n\".format (y_train_res.shape))"
      ]
    },
    {
      "cell_type": "code",
      "execution_count": null,
      "metadata": {
        "colab": {
          "base_uri": "https://localhost:8080/"
        },
        "id": "n2oAdAPVsKlK",
        "outputId": "aed85d88-e21d-4804-a73a-a9b22b20490a"
      },
      "outputs": [
        {
          "ename": "",
          "evalue": "",
          "output_type": "error",
          "traceback": [
            "\u001b[1;31mFailed to start the Kernel. \n",
            "\u001b[1;31mJupyter server crashed. Unable to connect. \n",
            "\u001b[1;31mError code from Jupyter: 1\n",
            "\u001b[1;31mTraceback (most recent call last):\n",
            "\u001b[1;31m  File \"c:\\Users\\premrasu\\AppData\\Local\\Programs\\Python\\Python310\\lib\\runpy.py\", line 196, in _run_module_as_main\n",
            "\u001b[1;31m    return _run_code(code, main_globals, None,\n",
            "\u001b[1;31m  File \"c:\\Users\\premrasu\\AppData\\Local\\Programs\\Python\\Python310\\lib\\runpy.py\", line 86, in _run_code\n",
            "\u001b[1;31m    exec(code, run_globals)\n",
            "\u001b[1;31m  File \"c:\\Users\\premrasu\\AppData\\Roaming\\Python\\Python310\\Scripts\\jupyter-notebook.EXE\\__main__.py\", line 4, in <module>\n",
            "\u001b[1;31m  File \"C:\\Users\\premrasu\\AppData\\Roaming\\Python\\Python310\\site-packages\\notebook\\notebookapp.py\", line 76, in <module>\n",
            "\u001b[1;31m    from .base.handlers import Template404, RedirectWithParams\n",
            "\u001b[1;31m  File \"C:\\Users\\premrasu\\AppData\\Roaming\\Python\\Python310\\site-packages\\notebook\\base\\handlers.py\", line 35, in <module>\n",
            "\u001b[1;31m    from notebook.utils import is_hidden, url_path_join, url_is_absolute, url_escape, urldecode_unix_socket_path\n",
            "\u001b[1;31mValueError: source code string cannot contain null bytes. \n",
            "\u001b[1;31mView Jupyter <a href='command:jupyter.viewOutput'>log</a> for further details."
          ]
        }
      ],
      "source": [
        "print(\"After over sampling, counts of label '1':{}\".format(sum(y_train==1)))\n",
        "print(\"After over sampling, counts of label '0' :{} \\n\".format(sum(y_train==0)))"
      ]
    },
    {
      "cell_type": "code",
      "execution_count": null,
      "metadata": {
        "colab": {
          "base_uri": "https://localhost:8080/"
        },
        "id": "wOgsPtPLFOUl",
        "outputId": "6cc94763-05cb-45c7-85a5-860336eed16f"
      },
      "outputs": [
        {
          "ename": "",
          "evalue": "",
          "output_type": "error",
          "traceback": [
            "\u001b[1;31mFailed to start the Kernel. \n",
            "\u001b[1;31mJupyter server crashed. Unable to connect. \n",
            "\u001b[1;31mError code from Jupyter: 1\n",
            "\u001b[1;31mTraceback (most recent call last):\n",
            "\u001b[1;31m  File \"c:\\Users\\premrasu\\AppData\\Local\\Programs\\Python\\Python310\\lib\\runpy.py\", line 196, in _run_module_as_main\n",
            "\u001b[1;31m    return _run_code(code, main_globals, None,\n",
            "\u001b[1;31m  File \"c:\\Users\\premrasu\\AppData\\Local\\Programs\\Python\\Python310\\lib\\runpy.py\", line 86, in _run_code\n",
            "\u001b[1;31m    exec(code, run_globals)\n",
            "\u001b[1;31m  File \"c:\\Users\\premrasu\\AppData\\Roaming\\Python\\Python310\\Scripts\\jupyter-notebook.EXE\\__main__.py\", line 4, in <module>\n",
            "\u001b[1;31m  File \"C:\\Users\\premrasu\\AppData\\Roaming\\Python\\Python310\\site-packages\\notebook\\notebookapp.py\", line 76, in <module>\n",
            "\u001b[1;31m    from .base.handlers import Template404, RedirectWithParams\n",
            "\u001b[1;31m  File \"C:\\Users\\premrasu\\AppData\\Roaming\\Python\\Python310\\site-packages\\notebook\\base\\handlers.py\", line 35, in <module>\n",
            "\u001b[1;31m    from notebook.utils import is_hidden, url_path_join, url_is_absolute, url_escape, urldecode_unix_socket_path\n",
            "\u001b[1;31mValueError: source code string cannot contain null bytes. \n",
            "\u001b[1;31mView Jupyter <a href='command:jupyter.viewOutput'>log</a> for further details."
          ]
        }
      ],
      "source": [
        "nltk.download(\"stopwords\")"
      ]
    },
    {
      "cell_type": "code",
      "execution_count": null,
      "metadata": {
        "id": "D-UTWfB3FSca"
      },
      "outputs": [
        {
          "ename": "",
          "evalue": "",
          "output_type": "error",
          "traceback": [
            "\u001b[1;31mFailed to start the Kernel. \n",
            "\u001b[1;31mJupyter server crashed. Unable to connect. \n",
            "\u001b[1;31mError code from Jupyter: 1\n",
            "\u001b[1;31mTraceback (most recent call last):\n",
            "\u001b[1;31m  File \"c:\\Users\\premrasu\\AppData\\Local\\Programs\\Python\\Python310\\lib\\runpy.py\", line 196, in _run_module_as_main\n",
            "\u001b[1;31m    return _run_code(code, main_globals, None,\n",
            "\u001b[1;31m  File \"c:\\Users\\premrasu\\AppData\\Local\\Programs\\Python\\Python310\\lib\\runpy.py\", line 86, in _run_code\n",
            "\u001b[1;31m    exec(code, run_globals)\n",
            "\u001b[1;31m  File \"c:\\Users\\premrasu\\AppData\\Roaming\\Python\\Python310\\Scripts\\jupyter-notebook.EXE\\__main__.py\", line 4, in <module>\n",
            "\u001b[1;31m  File \"C:\\Users\\premrasu\\AppData\\Roaming\\Python\\Python310\\site-packages\\notebook\\notebookapp.py\", line 76, in <module>\n",
            "\u001b[1;31m    from .base.handlers import Template404, RedirectWithParams\n",
            "\u001b[1;31m  File \"C:\\Users\\premrasu\\AppData\\Roaming\\Python\\Python310\\site-packages\\notebook\\base\\handlers.py\", line 35, in <module>\n",
            "\u001b[1;31m    from notebook.utils import is_hidden, url_path_join, url_is_absolute, url_escape, urldecode_unix_socket_path\n",
            "\u001b[1;31mValueError: source code string cannot contain null bytes. \n",
            "\u001b[1;31mView Jupyter <a href='command:jupyter.viewOutput'>log</a> for further details."
          ]
        }
      ],
      "source": [
        "\n",
        "import nltk\n",
        "from nltk.corpus import stopwords\n",
        "from nltk.stem import PorterStemmer"
      ]
    },
    {
      "cell_type": "code",
      "execution_count": null,
      "metadata": {
        "id": "wdnJmtIpFWxq"
      },
      "outputs": [
        {
          "ename": "",
          "evalue": "",
          "output_type": "error",
          "traceback": [
            "\u001b[1;31mFailed to start the Kernel. \n",
            "\u001b[1;31mJupyter server crashed. Unable to connect. \n",
            "\u001b[1;31mError code from Jupyter: 1\n",
            "\u001b[1;31mTraceback (most recent call last):\n",
            "\u001b[1;31m  File \"c:\\Users\\premrasu\\AppData\\Local\\Programs\\Python\\Python310\\lib\\runpy.py\", line 196, in _run_module_as_main\n",
            "\u001b[1;31m    return _run_code(code, main_globals, None,\n",
            "\u001b[1;31m  File \"c:\\Users\\premrasu\\AppData\\Local\\Programs\\Python\\Python310\\lib\\runpy.py\", line 86, in _run_code\n",
            "\u001b[1;31m    exec(code, run_globals)\n",
            "\u001b[1;31m  File \"c:\\Users\\premrasu\\AppData\\Roaming\\Python\\Python310\\Scripts\\jupyter-notebook.EXE\\__main__.py\", line 4, in <module>\n",
            "\u001b[1;31m  File \"C:\\Users\\premrasu\\AppData\\Roaming\\Python\\Python310\\site-packages\\notebook\\notebookapp.py\", line 76, in <module>\n",
            "\u001b[1;31m    from .base.handlers import Template404, RedirectWithParams\n",
            "\u001b[1;31m  File \"C:\\Users\\premrasu\\AppData\\Roaming\\Python\\Python310\\site-packages\\notebook\\base\\handlers.py\", line 35, in <module>\n",
            "\u001b[1;31m    from notebook.utils import is_hidden, url_path_join, url_is_absolute, url_escape, urldecode_unix_socket_path\n",
            "\u001b[1;31mValueError: source code string cannot contain null bytes. \n",
            "\u001b[1;31mView Jupyter <a href='command:jupyter.viewOutput'>log</a> for further details."
          ]
        }
      ],
      "source": [
        "import re\n",
        "corpus=[]\n",
        "length=len(df)"
      ]
    },
    {
      "cell_type": "code",
      "execution_count": null,
      "metadata": {
        "id": "5CaG25YjFcSc"
      },
      "outputs": [
        {
          "ename": "",
          "evalue": "",
          "output_type": "error",
          "traceback": [
            "\u001b[1;31mFailed to start the Kernel. \n",
            "\u001b[1;31mJupyter server crashed. Unable to connect. \n",
            "\u001b[1;31mError code from Jupyter: 1\n",
            "\u001b[1;31mTraceback (most recent call last):\n",
            "\u001b[1;31m  File \"c:\\Users\\premrasu\\AppData\\Local\\Programs\\Python\\Python310\\lib\\runpy.py\", line 196, in _run_module_as_main\n",
            "\u001b[1;31m    return _run_code(code, main_globals, None,\n",
            "\u001b[1;31m  File \"c:\\Users\\premrasu\\AppData\\Local\\Programs\\Python\\Python310\\lib\\runpy.py\", line 86, in _run_code\n",
            "\u001b[1;31m    exec(code, run_globals)\n",
            "\u001b[1;31m  File \"c:\\Users\\premrasu\\AppData\\Roaming\\Python\\Python310\\Scripts\\jupyter-notebook.EXE\\__main__.py\", line 4, in <module>\n",
            "\u001b[1;31m  File \"C:\\Users\\premrasu\\AppData\\Roaming\\Python\\Python310\\site-packages\\notebook\\notebookapp.py\", line 76, in <module>\n",
            "\u001b[1;31m    from .base.handlers import Template404, RedirectWithParams\n",
            "\u001b[1;31m  File \"C:\\Users\\premrasu\\AppData\\Roaming\\Python\\Python310\\site-packages\\notebook\\base\\handlers.py\", line 35, in <module>\n",
            "\u001b[1;31m    from notebook.utils import is_hidden, url_path_join, url_is_absolute, url_escape, urldecode_unix_socket_path\n",
            "\u001b[1;31mValueError: source code string cannot contain null bytes. \n",
            "\u001b[1;31mView Jupyter <a href='command:jupyter.viewOutput'>log</a> for further details."
          ]
        }
      ],
      "source": [
        "for i in range(0,length):\n",
        "  text=re.sub(\"[^a_ZA_Z0-9]\",\" \",df[\"text\"][i])\n",
        "  text=text.lower()\n",
        "  text=text.split()\n",
        "  pe=PorterStemmer()\n",
        "  stopword=stopwords.words(\"english\")\n",
        "  text=[pe.stem(word)for word in text if not word in set (stopword)]\n",
        "  text=\" \".join(text)\n",
        "  corpus.append(text)\n",
        "     \n",
        "     "
      ]
    },
    {
      "cell_type": "code",
      "execution_count": null,
      "metadata": {
        "colab": {
          "base_uri": "https://localhost:8080/"
        },
        "id": "_6yFefbEG5YY",
        "outputId": "f92cdaa0-0a0f-4bce-ee35-705fde56466e"
      },
      "outputs": [
        {
          "ename": "",
          "evalue": "",
          "output_type": "error",
          "traceback": [
            "\u001b[1;31mFailed to start the Kernel. \n",
            "\u001b[1;31mJupyter server crashed. Unable to connect. \n",
            "\u001b[1;31mError code from Jupyter: 1\n",
            "\u001b[1;31mTraceback (most recent call last):\n",
            "\u001b[1;31m  File \"c:\\Users\\premrasu\\AppData\\Local\\Programs\\Python\\Python310\\lib\\runpy.py\", line 196, in _run_module_as_main\n",
            "\u001b[1;31m    return _run_code(code, main_globals, None,\n",
            "\u001b[1;31m  File \"c:\\Users\\premrasu\\AppData\\Local\\Programs\\Python\\Python310\\lib\\runpy.py\", line 86, in _run_code\n",
            "\u001b[1;31m    exec(code, run_globals)\n",
            "\u001b[1;31m  File \"c:\\Users\\premrasu\\AppData\\Roaming\\Python\\Python310\\Scripts\\jupyter-notebook.EXE\\__main__.py\", line 4, in <module>\n",
            "\u001b[1;31m  File \"C:\\Users\\premrasu\\AppData\\Roaming\\Python\\Python310\\site-packages\\notebook\\notebookapp.py\", line 76, in <module>\n",
            "\u001b[1;31m    from .base.handlers import Template404, RedirectWithParams\n",
            "\u001b[1;31m  File \"C:\\Users\\premrasu\\AppData\\Roaming\\Python\\Python310\\site-packages\\notebook\\base\\handlers.py\", line 35, in <module>\n",
            "\u001b[1;31m    from notebook.utils import is_hidden, url_path_join, url_is_absolute, url_escape, urldecode_unix_socket_path\n",
            "\u001b[1;31mValueError: source code string cannot contain null bytes. \n",
            "\u001b[1;31mView Jupyter <a href='command:jupyter.viewOutput'>log</a> for further details."
          ]
        }
      ],
      "source": [
        "corpus"
      ]
    },
    {
      "cell_type": "code",
      "execution_count": null,
      "metadata": {
        "id": "P16xldIzHUZY"
      },
      "outputs": [
        {
          "ename": "",
          "evalue": "",
          "output_type": "error",
          "traceback": [
            "\u001b[1;31mFailed to start the Kernel. \n",
            "\u001b[1;31mJupyter server crashed. Unable to connect. \n",
            "\u001b[1;31mError code from Jupyter: 1\n",
            "\u001b[1;31mTraceback (most recent call last):\n",
            "\u001b[1;31m  File \"c:\\Users\\premrasu\\AppData\\Local\\Programs\\Python\\Python310\\lib\\runpy.py\", line 196, in _run_module_as_main\n",
            "\u001b[1;31m    return _run_code(code, main_globals, None,\n",
            "\u001b[1;31m  File \"c:\\Users\\premrasu\\AppData\\Local\\Programs\\Python\\Python310\\lib\\runpy.py\", line 86, in _run_code\n",
            "\u001b[1;31m    exec(code, run_globals)\n",
            "\u001b[1;31m  File \"c:\\Users\\premrasu\\AppData\\Roaming\\Python\\Python310\\Scripts\\jupyter-notebook.EXE\\__main__.py\", line 4, in <module>\n",
            "\u001b[1;31m  File \"C:\\Users\\premrasu\\AppData\\Roaming\\Python\\Python310\\site-packages\\notebook\\notebookapp.py\", line 76, in <module>\n",
            "\u001b[1;31m    from .base.handlers import Template404, RedirectWithParams\n",
            "\u001b[1;31m  File \"C:\\Users\\premrasu\\AppData\\Roaming\\Python\\Python310\\site-packages\\notebook\\base\\handlers.py\", line 35, in <module>\n",
            "\u001b[1;31m    from notebook.utils import is_hidden, url_path_join, url_is_absolute, url_escape, urldecode_unix_socket_path\n",
            "\u001b[1;31mValueError: source code string cannot contain null bytes. \n",
            "\u001b[1;31mView Jupyter <a href='command:jupyter.viewOutput'>log</a> for further details."
          ]
        }
      ],
      "source": [
        "from sklearn.feature_extraction.text import CountVectorizer\n",
        "cv=CountVectorizer(max_features=350000)\n",
        "X=cv.fit_transform(corpus).toarray()"
      ]
    },
    {
      "cell_type": "code",
      "execution_count": null,
      "metadata": {
        "id": "i5C92aFrQRE6"
      },
      "outputs": [
        {
          "ename": "",
          "evalue": "",
          "output_type": "error",
          "traceback": [
            "\u001b[1;31mFailed to start the Kernel. \n",
            "\u001b[1;31mJupyter server crashed. Unable to connect. \n",
            "\u001b[1;31mError code from Jupyter: 1\n",
            "\u001b[1;31mTraceback (most recent call last):\n",
            "\u001b[1;31m  File \"c:\\Users\\premrasu\\AppData\\Local\\Programs\\Python\\Python310\\lib\\runpy.py\", line 196, in _run_module_as_main\n",
            "\u001b[1;31m    return _run_code(code, main_globals, None,\n",
            "\u001b[1;31m  File \"c:\\Users\\premrasu\\AppData\\Local\\Programs\\Python\\Python310\\lib\\runpy.py\", line 86, in _run_code\n",
            "\u001b[1;31m    exec(code, run_globals)\n",
            "\u001b[1;31m  File \"c:\\Users\\premrasu\\AppData\\Roaming\\Python\\Python310\\Scripts\\jupyter-notebook.EXE\\__main__.py\", line 4, in <module>\n",
            "\u001b[1;31m  File \"C:\\Users\\premrasu\\AppData\\Roaming\\Python\\Python310\\site-packages\\notebook\\notebookapp.py\", line 76, in <module>\n",
            "\u001b[1;31m    from .base.handlers import Template404, RedirectWithParams\n",
            "\u001b[1;31m  File \"C:\\Users\\premrasu\\AppData\\Roaming\\Python\\Python310\\site-packages\\notebook\\base\\handlers.py\", line 35, in <module>\n",
            "\u001b[1;31m    from notebook.utils import is_hidden, url_path_join, url_is_absolute, url_escape, urldecode_unix_socket_path\n",
            "\u001b[1;31mValueError: source code string cannot contain null bytes. \n",
            "\u001b[1;31mView Jupyter <a href='command:jupyter.viewOutput'>log</a> for further details."
          ]
        }
      ],
      "source": [
        "import pickle\n",
        "pickle.dump(cv,open('cv1.pkl','wb'))"
      ]
    },
    {
      "cell_type": "code",
      "execution_count": null,
      "metadata": {
        "colab": {
          "base_uri": "https://localhost:8080/",
          "height": 75
        },
        "id": "F9TTEb0CHmrp",
        "outputId": "029ccb7f-d7bc-4f5a-e0d8-64c8fc510c6e"
      },
      "outputs": [
        {
          "ename": "",
          "evalue": "",
          "output_type": "error",
          "traceback": [
            "\u001b[1;31mFailed to start the Kernel. \n",
            "\u001b[1;31mJupyter server crashed. Unable to connect. \n",
            "\u001b[1;31mError code from Jupyter: 1\n",
            "\u001b[1;31mTraceback (most recent call last):\n",
            "\u001b[1;31m  File \"c:\\Users\\premrasu\\AppData\\Local\\Programs\\Python\\Python310\\lib\\runpy.py\", line 196, in _run_module_as_main\n",
            "\u001b[1;31m    return _run_code(code, main_globals, None,\n",
            "\u001b[1;31m  File \"c:\\Users\\premrasu\\AppData\\Local\\Programs\\Python\\Python310\\lib\\runpy.py\", line 86, in _run_code\n",
            "\u001b[1;31m    exec(code, run_globals)\n",
            "\u001b[1;31m  File \"c:\\Users\\premrasu\\AppData\\Roaming\\Python\\Python310\\Scripts\\jupyter-notebook.EXE\\__main__.py\", line 4, in <module>\n",
            "\u001b[1;31m  File \"C:\\Users\\premrasu\\AppData\\Roaming\\Python\\Python310\\site-packages\\notebook\\notebookapp.py\", line 76, in <module>\n",
            "\u001b[1;31m    from .base.handlers import Template404, RedirectWithParams\n",
            "\u001b[1;31m  File \"C:\\Users\\premrasu\\AppData\\Roaming\\Python\\Python310\\site-packages\\notebook\\base\\handlers.py\", line 35, in <module>\n",
            "\u001b[1;31m    from notebook.utils import is_hidden, url_path_join, url_is_absolute, url_escape, urldecode_unix_socket_path\n",
            "\u001b[1;31mValueError: source code string cannot contain null bytes. \n",
            "\u001b[1;31mView Jupyter <a href='command:jupyter.viewOutput'>log</a> for further details."
          ]
        }
      ],
      "source": [
        "from sklearn.naive_bayes import GaussianNB\n",
        "classifier=GaussianNB()\n",
        "classifier.fit(X_train,y_train)\n"
      ]
    },
    {
      "cell_type": "code",
      "execution_count": null,
      "metadata": {
        "id": "RExJ4WyrI1K3"
      },
      "outputs": [
        {
          "ename": "",
          "evalue": "",
          "output_type": "error",
          "traceback": [
            "\u001b[1;31mFailed to start the Kernel. \n",
            "\u001b[1;31mJupyter server crashed. Unable to connect. \n",
            "\u001b[1;31mError code from Jupyter: 1\n",
            "\u001b[1;31mTraceback (most recent call last):\n",
            "\u001b[1;31m  File \"c:\\Users\\premrasu\\AppData\\Local\\Programs\\Python\\Python310\\lib\\runpy.py\", line 196, in _run_module_as_main\n",
            "\u001b[1;31m    return _run_code(code, main_globals, None,\n",
            "\u001b[1;31m  File \"c:\\Users\\premrasu\\AppData\\Local\\Programs\\Python\\Python310\\lib\\runpy.py\", line 86, in _run_code\n",
            "\u001b[1;31m    exec(code, run_globals)\n",
            "\u001b[1;31m  File \"c:\\Users\\premrasu\\AppData\\Roaming\\Python\\Python310\\Scripts\\jupyter-notebook.EXE\\__main__.py\", line 4, in <module>\n",
            "\u001b[1;31m  File \"C:\\Users\\premrasu\\AppData\\Roaming\\Python\\Python310\\site-packages\\notebook\\notebookapp.py\", line 76, in <module>\n",
            "\u001b[1;31m    from .base.handlers import Template404, RedirectWithParams\n",
            "\u001b[1;31m  File \"C:\\Users\\premrasu\\AppData\\Roaming\\Python\\Python310\\site-packages\\notebook\\base\\handlers.py\", line 35, in <module>\n",
            "\u001b[1;31m    from notebook.utils import is_hidden, url_path_join, url_is_absolute, url_escape, urldecode_unix_socket_path\n",
            "\u001b[1;31mValueError: source code string cannot contain null bytes. \n",
            "\u001b[1;31mView Jupyter <a href='command:jupyter.viewOutput'>log</a> for further details."
          ]
        }
      ],
      "source": [
        "y_pred=classifier.predict(X_test)"
      ]
    },
    {
      "cell_type": "code",
      "execution_count": null,
      "metadata": {
        "id": "Nevtio52I4uJ"
      },
      "outputs": [
        {
          "ename": "",
          "evalue": "",
          "output_type": "error",
          "traceback": [
            "\u001b[1;31mFailed to start the Kernel. \n",
            "\u001b[1;31mJupyter server crashed. Unable to connect. \n",
            "\u001b[1;31mError code from Jupyter: 1\n",
            "\u001b[1;31mTraceback (most recent call last):\n",
            "\u001b[1;31m  File \"c:\\Users\\premrasu\\AppData\\Local\\Programs\\Python\\Python310\\lib\\runpy.py\", line 196, in _run_module_as_main\n",
            "\u001b[1;31m    return _run_code(code, main_globals, None,\n",
            "\u001b[1;31m  File \"c:\\Users\\premrasu\\AppData\\Local\\Programs\\Python\\Python310\\lib\\runpy.py\", line 86, in _run_code\n",
            "\u001b[1;31m    exec(code, run_globals)\n",
            "\u001b[1;31m  File \"c:\\Users\\premrasu\\AppData\\Roaming\\Python\\Python310\\Scripts\\jupyter-notebook.EXE\\__main__.py\", line 4, in <module>\n",
            "\u001b[1;31m  File \"C:\\Users\\premrasu\\AppData\\Roaming\\Python\\Python310\\site-packages\\notebook\\notebookapp.py\", line 76, in <module>\n",
            "\u001b[1;31m    from .base.handlers import Template404, RedirectWithParams\n",
            "\u001b[1;31m  File \"C:\\Users\\premrasu\\AppData\\Roaming\\Python\\Python310\\site-packages\\notebook\\base\\handlers.py\", line 35, in <module>\n",
            "\u001b[1;31m    from notebook.utils import is_hidden, url_path_join, url_is_absolute, url_escape, urldecode_unix_socket_path\n",
            "\u001b[1;31mValueError: source code string cannot contain null bytes. \n",
            "\u001b[1;31mView Jupyter <a href='command:jupyter.viewOutput'>log</a> for further details."
          ]
        }
      ],
      "source": [
        "\n",
        "from sklearn.metrics import confusion_matrix,accuracy_score\n",
        "cm1=confusion_matrix(y_test,y_pred)"
      ]
    },
    {
      "cell_type": "code",
      "execution_count": null,
      "metadata": {
        "colab": {
          "base_uri": "https://localhost:8080/"
        },
        "id": "zty9UVozI8cy",
        "outputId": "210643f9-ee06-4cb3-e36e-72f197b979e3"
      },
      "outputs": [
        {
          "ename": "",
          "evalue": "",
          "output_type": "error",
          "traceback": [
            "\u001b[1;31mFailed to start the Kernel. \n",
            "\u001b[1;31mJupyter server crashed. Unable to connect. \n",
            "\u001b[1;31mError code from Jupyter: 1\n",
            "\u001b[1;31mTraceback (most recent call last):\n",
            "\u001b[1;31m  File \"c:\\Users\\premrasu\\AppData\\Local\\Programs\\Python\\Python310\\lib\\runpy.py\", line 196, in _run_module_as_main\n",
            "\u001b[1;31m    return _run_code(code, main_globals, None,\n",
            "\u001b[1;31m  File \"c:\\Users\\premrasu\\AppData\\Local\\Programs\\Python\\Python310\\lib\\runpy.py\", line 86, in _run_code\n",
            "\u001b[1;31m    exec(code, run_globals)\n",
            "\u001b[1;31m  File \"c:\\Users\\premrasu\\AppData\\Roaming\\Python\\Python310\\Scripts\\jupyter-notebook.EXE\\__main__.py\", line 4, in <module>\n",
            "\u001b[1;31m  File \"C:\\Users\\premrasu\\AppData\\Roaming\\Python\\Python310\\site-packages\\notebook\\notebookapp.py\", line 76, in <module>\n",
            "\u001b[1;31m    from .base.handlers import Template404, RedirectWithParams\n",
            "\u001b[1;31m  File \"C:\\Users\\premrasu\\AppData\\Roaming\\Python\\Python310\\site-packages\\notebook\\base\\handlers.py\", line 35, in <module>\n",
            "\u001b[1;31m    from notebook.utils import is_hidden, url_path_join, url_is_absolute, url_escape, urldecode_unix_socket_path\n",
            "\u001b[1;31mValueError: source code string cannot contain null bytes. \n",
            "\u001b[1;31mView Jupyter <a href='command:jupyter.viewOutput'>log</a> for further details."
          ]
        }
      ],
      "source": [
        "print(\"Accuracy:\", accuracy_score(y_test,y_pred*100))"
      ]
    },
    {
      "cell_type": "code",
      "execution_count": null,
      "metadata": {
        "colab": {
          "base_uri": "https://localhost:8080/",
          "height": 462
        },
        "id": "ZbXoeRlUJCc8",
        "outputId": "31737087-07ed-4a41-92d7-9ce93b7e8df1"
      },
      "outputs": [
        {
          "ename": "",
          "evalue": "",
          "output_type": "error",
          "traceback": [
            "\u001b[1;31mFailed to start the Kernel. \n",
            "\u001b[1;31mJupyter server crashed. Unable to connect. \n",
            "\u001b[1;31mError code from Jupyter: 1\n",
            "\u001b[1;31mTraceback (most recent call last):\n",
            "\u001b[1;31m  File \"c:\\Users\\premrasu\\AppData\\Local\\Programs\\Python\\Python310\\lib\\runpy.py\", line 196, in _run_module_as_main\n",
            "\u001b[1;31m    return _run_code(code, main_globals, None,\n",
            "\u001b[1;31m  File \"c:\\Users\\premrasu\\AppData\\Local\\Programs\\Python\\Python310\\lib\\runpy.py\", line 86, in _run_code\n",
            "\u001b[1;31m    exec(code, run_globals)\n",
            "\u001b[1;31m  File \"c:\\Users\\premrasu\\AppData\\Roaming\\Python\\Python310\\Scripts\\jupyter-notebook.EXE\\__main__.py\", line 4, in <module>\n",
            "\u001b[1;31m  File \"C:\\Users\\premrasu\\AppData\\Roaming\\Python\\Python310\\site-packages\\notebook\\notebookapp.py\", line 76, in <module>\n",
            "\u001b[1;31m    from .base.handlers import Template404, RedirectWithParams\n",
            "\u001b[1;31m  File \"C:\\Users\\premrasu\\AppData\\Roaming\\Python\\Python310\\site-packages\\notebook\\base\\handlers.py\", line 35, in <module>\n",
            "\u001b[1;31m    from notebook.utils import is_hidden, url_path_join, url_is_absolute, url_escape, urldecode_unix_socket_path\n",
            "\u001b[1;31mValueError: source code string cannot contain null bytes. \n",
            "\u001b[1;31mView Jupyter <a href='command:jupyter.viewOutput'>log</a> for further details."
          ]
        }
      ],
      "source": [
        "\n",
        "import seaborn as sns\n",
        "plt.figure(figsize=(6,5))\n",
        "sns.heatmap(cm1,annot= True, fmt='n',xticklabels=['Not Spam','Spam'],yticklabels=['Not Spam','Spam'])"
      ]
    },
    {
      "cell_type": "code",
      "execution_count": null,
      "metadata": {
        "colab": {
          "base_uri": "https://localhost:8080/",
          "height": 75
        },
        "id": "ZtRPeKorJJ4U",
        "outputId": "42cba21b-164e-4e14-8a11-a0d6d47db2e5"
      },
      "outputs": [
        {
          "ename": "",
          "evalue": "",
          "output_type": "error",
          "traceback": [
            "\u001b[1;31mFailed to start the Kernel. \n",
            "\u001b[1;31mJupyter server crashed. Unable to connect. \n",
            "\u001b[1;31mError code from Jupyter: 1\n",
            "\u001b[1;31mTraceback (most recent call last):\n",
            "\u001b[1;31m  File \"c:\\Users\\premrasu\\AppData\\Local\\Programs\\Python\\Python310\\lib\\runpy.py\", line 196, in _run_module_as_main\n",
            "\u001b[1;31m    return _run_code(code, main_globals, None,\n",
            "\u001b[1;31m  File \"c:\\Users\\premrasu\\AppData\\Local\\Programs\\Python\\Python310\\lib\\runpy.py\", line 86, in _run_code\n",
            "\u001b[1;31m    exec(code, run_globals)\n",
            "\u001b[1;31m  File \"c:\\Users\\premrasu\\AppData\\Roaming\\Python\\Python310\\Scripts\\jupyter-notebook.EXE\\__main__.py\", line 4, in <module>\n",
            "\u001b[1;31m  File \"C:\\Users\\premrasu\\AppData\\Roaming\\Python\\Python310\\site-packages\\notebook\\notebookapp.py\", line 76, in <module>\n",
            "\u001b[1;31m    from .base.handlers import Template404, RedirectWithParams\n",
            "\u001b[1;31m  File \"C:\\Users\\premrasu\\AppData\\Roaming\\Python\\Python310\\site-packages\\notebook\\base\\handlers.py\", line 35, in <module>\n",
            "\u001b[1;31m    from notebook.utils import is_hidden, url_path_join, url_is_absolute, url_escape, urldecode_unix_socket_path\n",
            "\u001b[1;31mValueError: source code string cannot contain null bytes. \n",
            "\u001b[1;31mView Jupyter <a href='command:jupyter.viewOutput'>log</a> for further details."
          ]
        }
      ],
      "source": [
        "\n",
        "from sklearn.ensemble import RandomForestClassifier\n",
        "cl=RandomForestClassifier()\n",
        "cl.fit(X_train,y_train)"
      ]
    },
    {
      "cell_type": "code",
      "execution_count": null,
      "metadata": {
        "id": "tXliZbLfJWsy"
      },
      "outputs": [
        {
          "ename": "",
          "evalue": "",
          "output_type": "error",
          "traceback": [
            "\u001b[1;31mFailed to start the Kernel. \n",
            "\u001b[1;31mJupyter server crashed. Unable to connect. \n",
            "\u001b[1;31mError code from Jupyter: 1\n",
            "\u001b[1;31mTraceback (most recent call last):\n",
            "\u001b[1;31m  File \"c:\\Users\\premrasu\\AppData\\Local\\Programs\\Python\\Python310\\lib\\runpy.py\", line 196, in _run_module_as_main\n",
            "\u001b[1;31m    return _run_code(code, main_globals, None,\n",
            "\u001b[1;31m  File \"c:\\Users\\premrasu\\AppData\\Local\\Programs\\Python\\Python310\\lib\\runpy.py\", line 86, in _run_code\n",
            "\u001b[1;31m    exec(code, run_globals)\n",
            "\u001b[1;31m  File \"c:\\Users\\premrasu\\AppData\\Roaming\\Python\\Python310\\Scripts\\jupyter-notebook.EXE\\__main__.py\", line 4, in <module>\n",
            "\u001b[1;31m  File \"C:\\Users\\premrasu\\AppData\\Roaming\\Python\\Python310\\site-packages\\notebook\\notebookapp.py\", line 76, in <module>\n",
            "\u001b[1;31m    from .base.handlers import Template404, RedirectWithParams\n",
            "\u001b[1;31m  File \"C:\\Users\\premrasu\\AppData\\Roaming\\Python\\Python310\\site-packages\\notebook\\base\\handlers.py\", line 35, in <module>\n",
            "\u001b[1;31m    from notebook.utils import is_hidden, url_path_join, url_is_absolute, url_escape, urldecode_unix_socket_path\n",
            "\u001b[1;31mValueError: source code string cannot contain null bytes. \n",
            "\u001b[1;31mView Jupyter <a href='command:jupyter.viewOutput'>log</a> for further details."
          ]
        }
      ],
      "source": [
        "y_pred=cl.predict(X_test)"
      ]
    },
    {
      "cell_type": "code",
      "execution_count": null,
      "metadata": {
        "colab": {
          "base_uri": "https://localhost:8080/"
        },
        "id": "OX8MQPSYJd_g",
        "outputId": "d1c200c5-b6c4-4f8e-f395-9407c01d2ae0"
      },
      "outputs": [
        {
          "ename": "",
          "evalue": "",
          "output_type": "error",
          "traceback": [
            "\u001b[1;31mFailed to start the Kernel. \n",
            "\u001b[1;31mJupyter server crashed. Unable to connect. \n",
            "\u001b[1;31mError code from Jupyter: 1\n",
            "\u001b[1;31mTraceback (most recent call last):\n",
            "\u001b[1;31m  File \"c:\\Users\\premrasu\\AppData\\Local\\Programs\\Python\\Python310\\lib\\runpy.py\", line 196, in _run_module_as_main\n",
            "\u001b[1;31m    return _run_code(code, main_globals, None,\n",
            "\u001b[1;31m  File \"c:\\Users\\premrasu\\AppData\\Local\\Programs\\Python\\Python310\\lib\\runpy.py\", line 86, in _run_code\n",
            "\u001b[1;31m    exec(code, run_globals)\n",
            "\u001b[1;31m  File \"c:\\Users\\premrasu\\AppData\\Roaming\\Python\\Python310\\Scripts\\jupyter-notebook.EXE\\__main__.py\", line 4, in <module>\n",
            "\u001b[1;31m  File \"C:\\Users\\premrasu\\AppData\\Roaming\\Python\\Python310\\site-packages\\notebook\\notebookapp.py\", line 76, in <module>\n",
            "\u001b[1;31m    from .base.handlers import Template404, RedirectWithParams\n",
            "\u001b[1;31m  File \"C:\\Users\\premrasu\\AppData\\Roaming\\Python\\Python310\\site-packages\\notebook\\base\\handlers.py\", line 35, in <module>\n",
            "\u001b[1;31m    from notebook.utils import is_hidden, url_path_join, url_is_absolute, url_escape, urldecode_unix_socket_path\n",
            "\u001b[1;31mValueError: source code string cannot contain null bytes. \n",
            "\u001b[1;31mView Jupyter <a href='command:jupyter.viewOutput'>log</a> for further details."
          ]
        }
      ],
      "source": [
        "\n",
        "from sklearn.metrics import confusion_matrix,accuracy_score\n",
        "cm2=confusion_matrix(y_test,y_pred)\n",
        "print('Accuracy:',accuracy_score(y_test,y_pred)*100)"
      ]
    },
    {
      "cell_type": "code",
      "execution_count": null,
      "metadata": {
        "colab": {
          "base_uri": "https://localhost:8080/"
        },
        "id": "rRS-OyRDJ8Px",
        "outputId": "63da0467-1753-4fc2-d87e-9367b35a4068"
      },
      "outputs": [
        {
          "ename": "",
          "evalue": "",
          "output_type": "error",
          "traceback": [
            "\u001b[1;31mFailed to start the Kernel. \n",
            "\u001b[1;31mJupyter server crashed. Unable to connect. \n",
            "\u001b[1;31mError code from Jupyter: 1\n",
            "\u001b[1;31mTraceback (most recent call last):\n",
            "\u001b[1;31m  File \"c:\\Users\\premrasu\\AppData\\Local\\Programs\\Python\\Python310\\lib\\runpy.py\", line 196, in _run_module_as_main\n",
            "\u001b[1;31m    return _run_code(code, main_globals, None,\n",
            "\u001b[1;31m  File \"c:\\Users\\premrasu\\AppData\\Local\\Programs\\Python\\Python310\\lib\\runpy.py\", line 86, in _run_code\n",
            "\u001b[1;31m    exec(code, run_globals)\n",
            "\u001b[1;31m  File \"c:\\Users\\premrasu\\AppData\\Roaming\\Python\\Python310\\Scripts\\jupyter-notebook.EXE\\__main__.py\", line 4, in <module>\n",
            "\u001b[1;31m  File \"C:\\Users\\premrasu\\AppData\\Roaming\\Python\\Python310\\site-packages\\notebook\\notebookapp.py\", line 76, in <module>\n",
            "\u001b[1;31m    from .base.handlers import Template404, RedirectWithParams\n",
            "\u001b[1;31m  File \"C:\\Users\\premrasu\\AppData\\Roaming\\Python\\Python310\\site-packages\\notebook\\base\\handlers.py\", line 35, in <module>\n",
            "\u001b[1;31m    from notebook.utils import is_hidden, url_path_join, url_is_absolute, url_escape, urldecode_unix_socket_path\n",
            "\u001b[1;31mValueError: source code string cannot contain null bytes. \n",
            "\u001b[1;31mView Jupyter <a href='command:jupyter.viewOutput'>log</a> for further details."
          ]
        }
      ],
      "source": [
        "print(df.head(20))"
      ]
    },
    {
      "cell_type": "code",
      "execution_count": null,
      "metadata": {
        "colab": {
          "base_uri": "https://localhost:8080/",
          "height": 300
        },
        "id": "seQanLlEKDWY",
        "outputId": "f64a513b-0b94-4e4c-dd47-4b36acb8577d"
      },
      "outputs": [
        {
          "ename": "",
          "evalue": "",
          "output_type": "error",
          "traceback": [
            "\u001b[1;31mFailed to start the Kernel. \n",
            "\u001b[1;31mJupyter server crashed. Unable to connect. \n",
            "\u001b[1;31mError code from Jupyter: 1\n",
            "\u001b[1;31mTraceback (most recent call last):\n",
            "\u001b[1;31m  File \"c:\\Users\\premrasu\\AppData\\Local\\Programs\\Python\\Python310\\lib\\runpy.py\", line 196, in _run_module_as_main\n",
            "\u001b[1;31m    return _run_code(code, main_globals, None,\n",
            "\u001b[1;31m  File \"c:\\Users\\premrasu\\AppData\\Local\\Programs\\Python\\Python310\\lib\\runpy.py\", line 86, in _run_code\n",
            "\u001b[1;31m    exec(code, run_globals)\n",
            "\u001b[1;31m  File \"c:\\Users\\premrasu\\AppData\\Roaming\\Python\\Python310\\Scripts\\jupyter-notebook.EXE\\__main__.py\", line 4, in <module>\n",
            "\u001b[1;31m  File \"C:\\Users\\premrasu\\AppData\\Roaming\\Python\\Python310\\site-packages\\notebook\\notebookapp.py\", line 76, in <module>\n",
            "\u001b[1;31m    from .base.handlers import Template404, RedirectWithParams\n",
            "\u001b[1;31m  File \"C:\\Users\\premrasu\\AppData\\Roaming\\Python\\Python310\\site-packages\\notebook\\base\\handlers.py\", line 35, in <module>\n",
            "\u001b[1;31m    from notebook.utils import is_hidden, url_path_join, url_is_absolute, url_escape, urldecode_unix_socket_path\n",
            "\u001b[1;31mValueError: source code string cannot contain null bytes. \n",
            "\u001b[1;31mView Jupyter <a href='command:jupyter.viewOutput'>log</a> for further details."
          ]
        }
      ],
      "source": [
        "\n",
        "df.describe()\n",
        "     "
      ]
    },
    {
      "cell_type": "code",
      "execution_count": null,
      "metadata": {
        "colab": {
          "base_uri": "https://localhost:8080/"
        },
        "id": "MfqzRJ3JKJg4",
        "outputId": "e6fb5209-df8a-4f03-f89d-d08408ec1363"
      },
      "outputs": [
        {
          "ename": "",
          "evalue": "",
          "output_type": "error",
          "traceback": [
            "\u001b[1;31mFailed to start the Kernel. \n",
            "\u001b[1;31mJupyter server crashed. Unable to connect. \n",
            "\u001b[1;31mError code from Jupyter: 1\n",
            "\u001b[1;31mTraceback (most recent call last):\n",
            "\u001b[1;31m  File \"c:\\Users\\premrasu\\AppData\\Local\\Programs\\Python\\Python310\\lib\\runpy.py\", line 196, in _run_module_as_main\n",
            "\u001b[1;31m    return _run_code(code, main_globals, None,\n",
            "\u001b[1;31m  File \"c:\\Users\\premrasu\\AppData\\Local\\Programs\\Python\\Python310\\lib\\runpy.py\", line 86, in _run_code\n",
            "\u001b[1;31m    exec(code, run_globals)\n",
            "\u001b[1;31m  File \"c:\\Users\\premrasu\\AppData\\Roaming\\Python\\Python310\\Scripts\\jupyter-notebook.EXE\\__main__.py\", line 4, in <module>\n",
            "\u001b[1;31m  File \"C:\\Users\\premrasu\\AppData\\Roaming\\Python\\Python310\\site-packages\\notebook\\notebookapp.py\", line 76, in <module>\n",
            "\u001b[1;31m    from .base.handlers import Template404, RedirectWithParams\n",
            "\u001b[1;31m  File \"C:\\Users\\premrasu\\AppData\\Roaming\\Python\\Python310\\site-packages\\notebook\\base\\handlers.py\", line 35, in <module>\n",
            "\u001b[1;31m    from notebook.utils import is_hidden, url_path_join, url_is_absolute, url_escape, urldecode_unix_socket_path\n",
            "\u001b[1;31mValueError: source code string cannot contain null bytes. \n",
            "\u001b[1;31mView Jupyter <a href='command:jupyter.viewOutput'>log</a> for further details."
          ]
        }
      ],
      "source": [
        "df.shape"
      ]
    },
    {
      "cell_type": "code",
      "execution_count": null,
      "metadata": {
        "colab": {
          "base_uri": "https://localhost:8080/",
          "height": 574
        },
        "id": "bxi68MveKPoB",
        "outputId": "1a00b5bc-eec7-42f1-ee7f-e685c81f1737"
      },
      "outputs": [
        {
          "ename": "",
          "evalue": "",
          "output_type": "error",
          "traceback": [
            "\u001b[1;31mFailed to start the Kernel. \n",
            "\u001b[1;31mJupyter server crashed. Unable to connect. \n",
            "\u001b[1;31mError code from Jupyter: 1\n",
            "\u001b[1;31mTraceback (most recent call last):\n",
            "\u001b[1;31m  File \"c:\\Users\\premrasu\\AppData\\Local\\Programs\\Python\\Python310\\lib\\runpy.py\", line 196, in _run_module_as_main\n",
            "\u001b[1;31m    return _run_code(code, main_globals, None,\n",
            "\u001b[1;31m  File \"c:\\Users\\premrasu\\AppData\\Local\\Programs\\Python\\Python310\\lib\\runpy.py\", line 86, in _run_code\n",
            "\u001b[1;31m    exec(code, run_globals)\n",
            "\u001b[1;31m  File \"c:\\Users\\premrasu\\AppData\\Roaming\\Python\\Python310\\Scripts\\jupyter-notebook.EXE\\__main__.py\", line 4, in <module>\n",
            "\u001b[1;31m  File \"C:\\Users\\premrasu\\AppData\\Roaming\\Python\\Python310\\site-packages\\notebook\\notebookapp.py\", line 76, in <module>\n",
            "\u001b[1;31m    from .base.handlers import Template404, RedirectWithParams\n",
            "\u001b[1;31m  File \"C:\\Users\\premrasu\\AppData\\Roaming\\Python\\Python310\\site-packages\\notebook\\base\\handlers.py\", line 35, in <module>\n",
            "\u001b[1;31m    from notebook.utils import is_hidden, url_path_join, url_is_absolute, url_escape, urldecode_unix_socket_path\n",
            "\u001b[1;31mValueError: source code string cannot contain null bytes. \n",
            "\u001b[1;31mView Jupyter <a href='command:jupyter.viewOutput'>log</a> for further details."
          ]
        }
      ],
      "source": [
        "df[\"label\"].value_counts().plot(kind='bar',figsize=(8,6),color ='pink')\n",
        "plt.xticks(np.arange(2),('Non Spam','Spam'),rotation=0)"
      ]
    },
    {
      "cell_type": "code",
      "execution_count": null,
      "metadata": {
        "colab": {
          "base_uri": "https://localhost:8080/"
        },
        "id": "F2C0phctKnc-",
        "outputId": "5d8db8e5-dc87-4f3e-a83a-5fa8a06bd6cc"
      },
      "outputs": [
        {
          "ename": "",
          "evalue": "",
          "output_type": "error",
          "traceback": [
            "\u001b[1;31mFailed to start the Kernel. \n",
            "\u001b[1;31mJupyter server crashed. Unable to connect. \n",
            "\u001b[1;31mError code from Jupyter: 1\n",
            "\u001b[1;31mTraceback (most recent call last):\n",
            "\u001b[1;31m  File \"c:\\Users\\premrasu\\AppData\\Local\\Programs\\Python\\Python310\\lib\\runpy.py\", line 196, in _run_module_as_main\n",
            "\u001b[1;31m    return _run_code(code, main_globals, None,\n",
            "\u001b[1;31m  File \"c:\\Users\\premrasu\\AppData\\Local\\Programs\\Python\\Python310\\lib\\runpy.py\", line 86, in _run_code\n",
            "\u001b[1;31m    exec(code, run_globals)\n",
            "\u001b[1;31m  File \"c:\\Users\\premrasu\\AppData\\Roaming\\Python\\Python310\\Scripts\\jupyter-notebook.EXE\\__main__.py\", line 4, in <module>\n",
            "\u001b[1;31m  File \"C:\\Users\\premrasu\\AppData\\Roaming\\Python\\Python310\\site-packages\\notebook\\notebookapp.py\", line 76, in <module>\n",
            "\u001b[1;31m    from .base.handlers import Template404, RedirectWithParams\n",
            "\u001b[1;31m  File \"C:\\Users\\premrasu\\AppData\\Roaming\\Python\\Python310\\site-packages\\notebook\\base\\handlers.py\", line 35, in <module>\n",
            "\u001b[1;31m    from notebook.utils import is_hidden, url_path_join, url_is_absolute, url_escape, urldecode_unix_socket_path\n",
            "\u001b[1;31mValueError: source code string cannot contain null bytes. \n",
            "\u001b[1;31mView Jupyter <a href='command:jupyter.viewOutput'>log</a> for further details."
          ]
        }
      ],
      "source": [
        "only_spam = df[df['label']==1]\n",
        "print('Number of Spam records: {}'.format(only_spam.shape[0]))\n",
        "print('Number of Ham records: {}'.format(df.shape[0]-only_spam.shape[0]))\n",
        "     "
      ]
    },
    {
      "cell_type": "code",
      "execution_count": null,
      "metadata": {
        "id": "1rRqlAURLRjP"
      },
      "outputs": [
        {
          "ename": "",
          "evalue": "",
          "output_type": "error",
          "traceback": [
            "\u001b[1;31mFailed to start the Kernel. \n",
            "\u001b[1;31mJupyter server crashed. Unable to connect. \n",
            "\u001b[1;31mError code from Jupyter: 1\n",
            "\u001b[1;31mTraceback (most recent call last):\n",
            "\u001b[1;31m  File \"c:\\Users\\premrasu\\AppData\\Local\\Programs\\Python\\Python310\\lib\\runpy.py\", line 196, in _run_module_as_main\n",
            "\u001b[1;31m    return _run_code(code, main_globals, None,\n",
            "\u001b[1;31m  File \"c:\\Users\\premrasu\\AppData\\Local\\Programs\\Python\\Python310\\lib\\runpy.py\", line 86, in _run_code\n",
            "\u001b[1;31m    exec(code, run_globals)\n",
            "\u001b[1;31m  File \"c:\\Users\\premrasu\\AppData\\Roaming\\Python\\Python310\\Scripts\\jupyter-notebook.EXE\\__main__.py\", line 4, in <module>\n",
            "\u001b[1;31m  File \"C:\\Users\\premrasu\\AppData\\Roaming\\Python\\Python310\\site-packages\\notebook\\notebookapp.py\", line 76, in <module>\n",
            "\u001b[1;31m    from .base.handlers import Template404, RedirectWithParams\n",
            "\u001b[1;31m  File \"C:\\Users\\premrasu\\AppData\\Roaming\\Python\\Python310\\site-packages\\notebook\\base\\handlers.py\", line 35, in <module>\n",
            "\u001b[1;31m    from notebook.utils import is_hidden, url_path_join, url_is_absolute, url_escape, urldecode_unix_socket_path\n",
            "\u001b[1;31mValueError: source code string cannot contain null bytes. \n",
            "\u001b[1;31mView Jupyter <a href='command:jupyter.viewOutput'>log</a> for further details."
          ]
        }
      ],
      "source": [
        "df['word_count'] = df['text'].apply(lambda x: len(x.split()))"
      ]
    },
    {
      "cell_type": "code",
      "execution_count": null,
      "metadata": {
        "colab": {
          "base_uri": "https://localhost:8080/",
          "height": 867
        },
        "id": "MJ3CY83KLV9I",
        "outputId": "aa637fb7-0911-4950-cab6-94b084e3d996"
      },
      "outputs": [
        {
          "ename": "",
          "evalue": "",
          "output_type": "error",
          "traceback": [
            "\u001b[1;31mFailed to start the Kernel. \n",
            "\u001b[1;31mJupyter server crashed. Unable to connect. \n",
            "\u001b[1;31mError code from Jupyter: 1\n",
            "\u001b[1;31mTraceback (most recent call last):\n",
            "\u001b[1;31m  File \"c:\\Users\\premrasu\\AppData\\Local\\Programs\\Python\\Python310\\lib\\runpy.py\", line 196, in _run_module_as_main\n",
            "\u001b[1;31m    return _run_code(code, main_globals, None,\n",
            "\u001b[1;31m  File \"c:\\Users\\premrasu\\AppData\\Local\\Programs\\Python\\Python310\\lib\\runpy.py\", line 86, in _run_code\n",
            "\u001b[1;31m    exec(code, run_globals)\n",
            "\u001b[1;31m  File \"c:\\Users\\premrasu\\AppData\\Roaming\\Python\\Python310\\Scripts\\jupyter-notebook.EXE\\__main__.py\", line 4, in <module>\n",
            "\u001b[1;31m  File \"C:\\Users\\premrasu\\AppData\\Roaming\\Python\\Python310\\site-packages\\notebook\\notebookapp.py\", line 76, in <module>\n",
            "\u001b[1;31m    from .base.handlers import Template404, RedirectWithParams\n",
            "\u001b[1;31m  File \"C:\\Users\\premrasu\\AppData\\Roaming\\Python\\Python310\\site-packages\\notebook\\base\\handlers.py\", line 35, in <module>\n",
            "\u001b[1;31m    from notebook.utils import is_hidden, url_path_join, url_is_absolute, url_escape, urldecode_unix_socket_path\n",
            "\u001b[1;31mValueError: source code string cannot contain null bytes. \n",
            "\u001b[1;31mView Jupyter <a href='command:jupyter.viewOutput'>log</a> for further details."
          ]
        }
      ],
      "source": [
        "plt.figure(figsize=(12, 6))\n",
        "\n",
        "# 1-row, 2-column, go to the first subplot\n",
        "plt.subplot(1, 2, 1)\n",
        "g = sns.distplot(a=df[df['label']==0].word_count)\n",
        "p = plt.title('Distribution of word_count for Ham messages')\n",
        "\n",
        "# 1-row, 2-column, go to the second subplot\n",
        "plt.subplot(1, 2, 2)\n",
        "g = sns.distplot(a=df[df['label']==1].word_count, color='red')\n",
        "p = plt.title('Distribution of word_count for Spam messages')\n",
        "\n",
        "plt.tight_layout()\n",
        "plt.show()\n"
      ]
    },
    {
      "cell_type": "code",
      "execution_count": null,
      "metadata": {
        "id": "fy3j09GLL3Lm"
      },
      "outputs": [
        {
          "ename": "",
          "evalue": "",
          "output_type": "error",
          "traceback": [
            "\u001b[1;31mFailed to start the Kernel. \n",
            "\u001b[1;31mJupyter server crashed. Unable to connect. \n",
            "\u001b[1;31mError code from Jupyter: 1\n",
            "\u001b[1;31mTraceback (most recent call last):\n",
            "\u001b[1;31m  File \"c:\\Users\\premrasu\\AppData\\Local\\Programs\\Python\\Python310\\lib\\runpy.py\", line 196, in _run_module_as_main\n",
            "\u001b[1;31m    return _run_code(code, main_globals, None,\n",
            "\u001b[1;31m  File \"c:\\Users\\premrasu\\AppData\\Local\\Programs\\Python\\Python310\\lib\\runpy.py\", line 86, in _run_code\n",
            "\u001b[1;31m    exec(code, run_globals)\n",
            "\u001b[1;31m  File \"c:\\Users\\premrasu\\AppData\\Roaming\\Python\\Python310\\Scripts\\jupyter-notebook.EXE\\__main__.py\", line 4, in <module>\n",
            "\u001b[1;31m  File \"C:\\Users\\premrasu\\AppData\\Roaming\\Python\\Python310\\site-packages\\notebook\\notebookapp.py\", line 76, in <module>\n",
            "\u001b[1;31m    from .base.handlers import Template404, RedirectWithParams\n",
            "\u001b[1;31m  File \"C:\\Users\\premrasu\\AppData\\Roaming\\Python\\Python310\\site-packages\\notebook\\base\\handlers.py\", line 35, in <module>\n",
            "\u001b[1;31m    from notebook.utils import is_hidden, url_path_join, url_is_absolute, url_escape, urldecode_unix_socket_path\n",
            "\u001b[1;31mValueError: source code string cannot contain null bytes. \n",
            "\u001b[1;31mView Jupyter <a href='command:jupyter.viewOutput'>log</a> for further details."
          ]
        }
      ],
      "source": [
        "from sklearn.preprocessing import StandardScaler\n",
        "sc=StandardScaler()\n",
        "X=sc.fit_transform(X)"
      ]
    },
    {
      "cell_type": "code",
      "execution_count": null,
      "metadata": {
        "id": "9ckzPbrqL5sF"
      },
      "outputs": [
        {
          "ename": "",
          "evalue": "",
          "output_type": "error",
          "traceback": [
            "\u001b[1;31mFailed to start the Kernel. \n",
            "\u001b[1;31mJupyter server crashed. Unable to connect. \n",
            "\u001b[1;31mError code from Jupyter: 1\n",
            "\u001b[1;31mTraceback (most recent call last):\n",
            "\u001b[1;31m  File \"c:\\Users\\premrasu\\AppData\\Local\\Programs\\Python\\Python310\\lib\\runpy.py\", line 196, in _run_module_as_main\n",
            "\u001b[1;31m    return _run_code(code, main_globals, None,\n",
            "\u001b[1;31m  File \"c:\\Users\\premrasu\\AppData\\Local\\Programs\\Python\\Python310\\lib\\runpy.py\", line 86, in _run_code\n",
            "\u001b[1;31m    exec(code, run_globals)\n",
            "\u001b[1;31m  File \"c:\\Users\\premrasu\\AppData\\Roaming\\Python\\Python310\\Scripts\\jupyter-notebook.EXE\\__main__.py\", line 4, in <module>\n",
            "\u001b[1;31m  File \"C:\\Users\\premrasu\\AppData\\Roaming\\Python\\Python310\\site-packages\\notebook\\notebookapp.py\", line 76, in <module>\n",
            "\u001b[1;31m    from .base.handlers import Template404, RedirectWithParams\n",
            "\u001b[1;31m  File \"C:\\Users\\premrasu\\AppData\\Roaming\\Python\\Python310\\site-packages\\notebook\\base\\handlers.py\", line 35, in <module>\n",
            "\u001b[1;31m    from notebook.utils import is_hidden, url_path_join, url_is_absolute, url_escape, urldecode_unix_socket_path\n",
            "\u001b[1;31mValueError: source code string cannot contain null bytes. \n",
            "\u001b[1;31mView Jupyter <a href='command:jupyter.viewOutput'>log</a> for further details."
          ]
        }
      ],
      "source": [
        "from sklearn.model_selection import train_test_split\n",
        "X_train,X_test,y_train,y_test=train_test_split(X,y,test_size=0.20,random_state=0)"
      ]
    },
    {
      "cell_type": "code",
      "execution_count": null,
      "metadata": {
        "colab": {
          "base_uri": "https://localhost:8080/",
          "height": 466
        },
        "id": "8t6-H9oDMYnG",
        "outputId": "e8f67250-5daa-4213-892c-95ff9c0ffd2f"
      },
      "outputs": [
        {
          "ename": "",
          "evalue": "",
          "output_type": "error",
          "traceback": [
            "\u001b[1;31mFailed to start the Kernel. \n",
            "\u001b[1;31mJupyter server crashed. Unable to connect. \n",
            "\u001b[1;31mError code from Jupyter: 1\n",
            "\u001b[1;31mTraceback (most recent call last):\n",
            "\u001b[1;31m  File \"c:\\Users\\premrasu\\AppData\\Local\\Programs\\Python\\Python310\\lib\\runpy.py\", line 196, in _run_module_as_main\n",
            "\u001b[1;31m    return _run_code(code, main_globals, None,\n",
            "\u001b[1;31m  File \"c:\\Users\\premrasu\\AppData\\Local\\Programs\\Python\\Python310\\lib\\runpy.py\", line 86, in _run_code\n",
            "\u001b[1;31m    exec(code, run_globals)\n",
            "\u001b[1;31m  File \"c:\\Users\\premrasu\\AppData\\Roaming\\Python\\Python310\\Scripts\\jupyter-notebook.EXE\\__main__.py\", line 4, in <module>\n",
            "\u001b[1;31m  File \"C:\\Users\\premrasu\\AppData\\Roaming\\Python\\Python310\\site-packages\\notebook\\notebookapp.py\", line 76, in <module>\n",
            "\u001b[1;31m    from .base.handlers import Template404, RedirectWithParams\n",
            "\u001b[1;31m  File \"C:\\Users\\premrasu\\AppData\\Roaming\\Python\\Python310\\site-packages\\notebook\\base\\handlers.py\", line 35, in <module>\n",
            "\u001b[1;31m    from notebook.utils import is_hidden, url_path_join, url_is_absolute, url_escape, urldecode_unix_socket_path\n",
            "\u001b[1;31mValueError: source code string cannot contain null bytes. \n",
            "\u001b[1;31mView Jupyter <a href='command:jupyter.viewOutput'>log</a> for further details."
          ]
        }
      ],
      "source": [
        "df_visualizations=df.copy()\n",
        "df_visualizations[\"Length\"]=df_visualizations[\"text\"].apply(lambda x:len(x))\n",
        "sns.violinplot(x=\"label\",y=\"Length\", data=df_visualizations)"
      ]
    },
    {
      "cell_type": "code",
      "execution_count": null,
      "metadata": {
        "colab": {
          "base_uri": "https://localhost:8080/",
          "height": 447
        },
        "id": "xKDMHcaUMs2V",
        "outputId": "2727948d-e9a9-45ff-92b1-920a38bc25f8"
      },
      "outputs": [
        {
          "ename": "",
          "evalue": "",
          "output_type": "error",
          "traceback": [
            "\u001b[1;31mFailed to start the Kernel. \n",
            "\u001b[1;31mJupyter server crashed. Unable to connect. \n",
            "\u001b[1;31mError code from Jupyter: 1\n",
            "\u001b[1;31mTraceback (most recent call last):\n",
            "\u001b[1;31m  File \"c:\\Users\\premrasu\\AppData\\Local\\Programs\\Python\\Python310\\lib\\runpy.py\", line 196, in _run_module_as_main\n",
            "\u001b[1;31m    return _run_code(code, main_globals, None,\n",
            "\u001b[1;31m  File \"c:\\Users\\premrasu\\AppData\\Local\\Programs\\Python\\Python310\\lib\\runpy.py\", line 86, in _run_code\n",
            "\u001b[1;31m    exec(code, run_globals)\n",
            "\u001b[1;31m  File \"c:\\Users\\premrasu\\AppData\\Roaming\\Python\\Python310\\Scripts\\jupyter-notebook.EXE\\__main__.py\", line 4, in <module>\n",
            "\u001b[1;31m  File \"C:\\Users\\premrasu\\AppData\\Roaming\\Python\\Python310\\site-packages\\notebook\\notebookapp.py\", line 76, in <module>\n",
            "\u001b[1;31m    from .base.handlers import Template404, RedirectWithParams\n",
            "\u001b[1;31m  File \"C:\\Users\\premrasu\\AppData\\Roaming\\Python\\Python310\\site-packages\\notebook\\base\\handlers.py\", line 35, in <module>\n",
            "\u001b[1;31m    from notebook.utils import is_hidden, url_path_join, url_is_absolute, url_escape, urldecode_unix_socket_path\n",
            "\u001b[1;31mValueError: source code string cannot contain null bytes. \n",
            "\u001b[1;31mView Jupyter <a href='command:jupyter.viewOutput'>log</a> for further details."
          ]
        }
      ],
      "source": [
        "sns.boxplot(df['label'],color='violet')"
      ]
    },
    {
      "cell_type": "code",
      "execution_count": null,
      "metadata": {
        "colab": {
          "base_uri": "https://localhost:8080/",
          "height": 507
        },
        "id": "W6zHJfkgM7CY",
        "outputId": "69954815-8649-4106-91d2-58123e48e4e6"
      },
      "outputs": [
        {
          "ename": "",
          "evalue": "",
          "output_type": "error",
          "traceback": [
            "\u001b[1;31mFailed to start the Kernel. \n",
            "\u001b[1;31mJupyter server crashed. Unable to connect. \n",
            "\u001b[1;31mError code from Jupyter: 1\n",
            "\u001b[1;31mTraceback (most recent call last):\n",
            "\u001b[1;31m  File \"c:\\Users\\premrasu\\AppData\\Local\\Programs\\Python\\Python310\\lib\\runpy.py\", line 196, in _run_module_as_main\n",
            "\u001b[1;31m    return _run_code(code, main_globals, None,\n",
            "\u001b[1;31m  File \"c:\\Users\\premrasu\\AppData\\Local\\Programs\\Python\\Python310\\lib\\runpy.py\", line 86, in _run_code\n",
            "\u001b[1;31m    exec(code, run_globals)\n",
            "\u001b[1;31m  File \"c:\\Users\\premrasu\\AppData\\Roaming\\Python\\Python310\\Scripts\\jupyter-notebook.EXE\\__main__.py\", line 4, in <module>\n",
            "\u001b[1;31m  File \"C:\\Users\\premrasu\\AppData\\Roaming\\Python\\Python310\\site-packages\\notebook\\notebookapp.py\", line 76, in <module>\n",
            "\u001b[1;31m    from .base.handlers import Template404, RedirectWithParams\n",
            "\u001b[1;31m  File \"C:\\Users\\premrasu\\AppData\\Roaming\\Python\\Python310\\site-packages\\notebook\\base\\handlers.py\", line 35, in <module>\n",
            "\u001b[1;31m    from notebook.utils import is_hidden, url_path_join, url_is_absolute, url_escape, urldecode_unix_socket_path\n",
            "\u001b[1;31mValueError: source code string cannot contain null bytes. \n",
            "\u001b[1;31mView Jupyter <a href='command:jupyter.viewOutput'>log</a> for further details."
          ]
        }
      ],
      "source": [
        "sns.heatmap(df.corr(),annot=True)"
      ]
    },
    {
      "cell_type": "code",
      "execution_count": null,
      "metadata": {
        "colab": {
          "base_uri": "https://localhost:8080/",
          "height": 75
        },
        "id": "zkrF9NygNPFI",
        "outputId": "4d27df4f-8cef-4531-89de-d8c8d733e008"
      },
      "outputs": [
        {
          "ename": "",
          "evalue": "",
          "output_type": "error",
          "traceback": [
            "\u001b[1;31mFailed to start the Kernel. \n",
            "\u001b[1;31mJupyter server crashed. Unable to connect. \n",
            "\u001b[1;31mError code from Jupyter: 1\n",
            "\u001b[1;31mTraceback (most recent call last):\n",
            "\u001b[1;31m  File \"c:\\Users\\premrasu\\AppData\\Local\\Programs\\Python\\Python310\\lib\\runpy.py\", line 196, in _run_module_as_main\n",
            "\u001b[1;31m    return _run_code(code, main_globals, None,\n",
            "\u001b[1;31m  File \"c:\\Users\\premrasu\\AppData\\Local\\Programs\\Python\\Python310\\lib\\runpy.py\", line 86, in _run_code\n",
            "\u001b[1;31m    exec(code, run_globals)\n",
            "\u001b[1;31m  File \"c:\\Users\\premrasu\\AppData\\Roaming\\Python\\Python310\\Scripts\\jupyter-notebook.EXE\\__main__.py\", line 4, in <module>\n",
            "\u001b[1;31m  File \"C:\\Users\\premrasu\\AppData\\Roaming\\Python\\Python310\\site-packages\\notebook\\notebookapp.py\", line 76, in <module>\n",
            "\u001b[1;31m    from .base.handlers import Template404, RedirectWithParams\n",
            "\u001b[1;31m  File \"C:\\Users\\premrasu\\AppData\\Roaming\\Python\\Python310\\site-packages\\notebook\\base\\handlers.py\", line 35, in <module>\n",
            "\u001b[1;31m    from notebook.utils import is_hidden, url_path_join, url_is_absolute, url_escape, urldecode_unix_socket_path\n",
            "\u001b[1;31mValueError: source code string cannot contain null bytes. \n",
            "\u001b[1;31mView Jupyter <a href='command:jupyter.viewOutput'>log</a> for further details."
          ]
        }
      ],
      "source": [
        "from sklearn.tree import DecisionTreeClassifier\n",
        "model=DecisionTreeClassifier()\n",
        "model.fit(X_train_res,y_train_res)"
      ]
    },
    {
      "cell_type": "code",
      "execution_count": null,
      "metadata": {
        "colab": {
          "base_uri": "https://localhost:8080/",
          "height": 75
        },
        "id": "or10_qSpNUe5",
        "outputId": "f4e46e36-7a56-4b42-b0cf-e3cdf8b25f7f"
      },
      "outputs": [
        {
          "ename": "",
          "evalue": "",
          "output_type": "error",
          "traceback": [
            "\u001b[1;31mFailed to start the Kernel. \n",
            "\u001b[1;31mJupyter server crashed. Unable to connect. \n",
            "\u001b[1;31mError code from Jupyter: 1\n",
            "\u001b[1;31mTraceback (most recent call last):\n",
            "\u001b[1;31m  File \"c:\\Users\\premrasu\\AppData\\Local\\Programs\\Python\\Python310\\lib\\runpy.py\", line 196, in _run_module_as_main\n",
            "\u001b[1;31m    return _run_code(code, main_globals, None,\n",
            "\u001b[1;31m  File \"c:\\Users\\premrasu\\AppData\\Local\\Programs\\Python\\Python310\\lib\\runpy.py\", line 86, in _run_code\n",
            "\u001b[1;31m    exec(code, run_globals)\n",
            "\u001b[1;31m  File \"c:\\Users\\premrasu\\AppData\\Roaming\\Python\\Python310\\Scripts\\jupyter-notebook.EXE\\__main__.py\", line 4, in <module>\n",
            "\u001b[1;31m  File \"C:\\Users\\premrasu\\AppData\\Roaming\\Python\\Python310\\site-packages\\notebook\\notebookapp.py\", line 76, in <module>\n",
            "\u001b[1;31m    from .base.handlers import Template404, RedirectWithParams\n",
            "\u001b[1;31m  File \"C:\\Users\\premrasu\\AppData\\Roaming\\Python\\Python310\\site-packages\\notebook\\base\\handlers.py\", line 35, in <module>\n",
            "\u001b[1;31m    from notebook.utils import is_hidden, url_path_join, url_is_absolute, url_escape, urldecode_unix_socket_path\n",
            "\u001b[1;31mValueError: source code string cannot contain null bytes. \n",
            "\u001b[1;31mView Jupyter <a href='command:jupyter.viewOutput'>log</a> for further details."
          ]
        }
      ],
      "source": [
        "\n",
        "from sklearn.ensemble import RandomForestClassifier\n",
        "model1=RandomForestClassifier()\n",
        "model1.fit(X_train_res,y_train_res)"
      ]
    },
    {
      "cell_type": "code",
      "execution_count": null,
      "metadata": {
        "id": "t_l51HxDNbHT"
      },
      "outputs": [
        {
          "ename": "",
          "evalue": "",
          "output_type": "error",
          "traceback": [
            "\u001b[1;31mFailed to start the Kernel. \n",
            "\u001b[1;31mJupyter server crashed. Unable to connect. \n",
            "\u001b[1;31mError code from Jupyter: 1\n",
            "\u001b[1;31mTraceback (most recent call last):\n",
            "\u001b[1;31m  File \"c:\\Users\\premrasu\\AppData\\Local\\Programs\\Python\\Python310\\lib\\runpy.py\", line 196, in _run_module_as_main\n",
            "\u001b[1;31m    return _run_code(code, main_globals, None,\n",
            "\u001b[1;31m  File \"c:\\Users\\premrasu\\AppData\\Local\\Programs\\Python\\Python310\\lib\\runpy.py\", line 86, in _run_code\n",
            "\u001b[1;31m    exec(code, run_globals)\n",
            "\u001b[1;31m  File \"c:\\Users\\premrasu\\AppData\\Roaming\\Python\\Python310\\Scripts\\jupyter-notebook.EXE\\__main__.py\", line 4, in <module>\n",
            "\u001b[1;31m  File \"C:\\Users\\premrasu\\AppData\\Roaming\\Python\\Python310\\site-packages\\notebook\\notebookapp.py\", line 76, in <module>\n",
            "\u001b[1;31m    from .base.handlers import Template404, RedirectWithParams\n",
            "\u001b[1;31m  File \"C:\\Users\\premrasu\\AppData\\Roaming\\Python\\Python310\\site-packages\\notebook\\base\\handlers.py\", line 35, in <module>\n",
            "\u001b[1;31m    from notebook.utils import is_hidden, url_path_join, url_is_absolute, url_escape, urldecode_unix_socket_path\n",
            "\u001b[1;31mValueError: source code string cannot contain null bytes. \n",
            "\u001b[1;31mView Jupyter <a href='command:jupyter.viewOutput'>log</a> for further details."
          ]
        }
      ],
      "source": [
        "from sklearn.naive_bayes import MultinomialNB\n",
        "model =MultinomialNB()\n",
        "     "
      ]
    },
    {
      "cell_type": "code",
      "execution_count": null,
      "metadata": {
        "colab": {
          "base_uri": "https://localhost:8080/",
          "height": 75
        },
        "id": "KjY5Pu-eNkgj",
        "outputId": "164bcdfe-fd05-438d-f52e-43fb835f80eb"
      },
      "outputs": [
        {
          "ename": "",
          "evalue": "",
          "output_type": "error",
          "traceback": [
            "\u001b[1;31mFailed to start the Kernel. \n",
            "\u001b[1;31mJupyter server crashed. Unable to connect. \n",
            "\u001b[1;31mError code from Jupyter: 1\n",
            "\u001b[1;31mTraceback (most recent call last):\n",
            "\u001b[1;31m  File \"c:\\Users\\premrasu\\AppData\\Local\\Programs\\Python\\Python310\\lib\\runpy.py\", line 196, in _run_module_as_main\n",
            "\u001b[1;31m    return _run_code(code, main_globals, None,\n",
            "\u001b[1;31m  File \"c:\\Users\\premrasu\\AppData\\Local\\Programs\\Python\\Python310\\lib\\runpy.py\", line 86, in _run_code\n",
            "\u001b[1;31m    exec(code, run_globals)\n",
            "\u001b[1;31m  File \"c:\\Users\\premrasu\\AppData\\Roaming\\Python\\Python310\\Scripts\\jupyter-notebook.EXE\\__main__.py\", line 4, in <module>\n",
            "\u001b[1;31m  File \"C:\\Users\\premrasu\\AppData\\Roaming\\Python\\Python310\\site-packages\\notebook\\notebookapp.py\", line 76, in <module>\n",
            "\u001b[1;31m    from .base.handlers import Template404, RedirectWithParams\n",
            "\u001b[1;31m  File \"C:\\Users\\premrasu\\AppData\\Roaming\\Python\\Python310\\site-packages\\notebook\\base\\handlers.py\", line 35, in <module>\n",
            "\u001b[1;31m    from notebook.utils import is_hidden, url_path_join, url_is_absolute, url_escape, urldecode_unix_socket_path\n",
            "\u001b[1;31mValueError: source code string cannot contain null bytes. \n",
            "\u001b[1;31mView Jupyter <a href='command:jupyter.viewOutput'>log</a> for further details."
          ]
        }
      ],
      "source": [
        "model.fit(X_train_res, y_train_res)"
      ]
    },
    {
      "cell_type": "code",
      "execution_count": null,
      "metadata": {
        "id": "3aL6VTPwNpF0"
      },
      "outputs": [
        {
          "ename": "",
          "evalue": "",
          "output_type": "error",
          "traceback": [
            "\u001b[1;31mFailed to start the Kernel. \n",
            "\u001b[1;31mJupyter server crashed. Unable to connect. \n",
            "\u001b[1;31mError code from Jupyter: 1\n",
            "\u001b[1;31mTraceback (most recent call last):\n",
            "\u001b[1;31m  File \"c:\\Users\\premrasu\\AppData\\Local\\Programs\\Python\\Python310\\lib\\runpy.py\", line 196, in _run_module_as_main\n",
            "\u001b[1;31m    return _run_code(code, main_globals, None,\n",
            "\u001b[1;31m  File \"c:\\Users\\premrasu\\AppData\\Local\\Programs\\Python\\Python310\\lib\\runpy.py\", line 86, in _run_code\n",
            "\u001b[1;31m    exec(code, run_globals)\n",
            "\u001b[1;31m  File \"c:\\Users\\premrasu\\AppData\\Roaming\\Python\\Python310\\Scripts\\jupyter-notebook.EXE\\__main__.py\", line 4, in <module>\n",
            "\u001b[1;31m  File \"C:\\Users\\premrasu\\AppData\\Roaming\\Python\\Python310\\site-packages\\notebook\\notebookapp.py\", line 76, in <module>\n",
            "\u001b[1;31m    from .base.handlers import Template404, RedirectWithParams\n",
            "\u001b[1;31m  File \"C:\\Users\\premrasu\\AppData\\Roaming\\Python\\Python310\\site-packages\\notebook\\base\\handlers.py\", line 35, in <module>\n",
            "\u001b[1;31m    from notebook.utils import is_hidden, url_path_join, url_is_absolute, url_escape, urldecode_unix_socket_path\n",
            "\u001b[1;31mValueError: source code string cannot contain null bytes. \n",
            "\u001b[1;31mView Jupyter <a href='command:jupyter.viewOutput'>log</a> for further details."
          ]
        }
      ],
      "source": [
        "from sklearn.model_selection import cross_val_score\n",
        "from sklearn.metrics import classification_report, confusion_matrix\n",
        "from sklearn.model_selection import train_test_split\n"
      ]
    },
    {
      "cell_type": "code",
      "execution_count": null,
      "metadata": {
        "id": "NTYVKlQiR4PC"
      },
      "outputs": [
        {
          "ename": "",
          "evalue": "",
          "output_type": "error",
          "traceback": [
            "\u001b[1;31mFailed to start the Kernel. \n",
            "\u001b[1;31mJupyter server crashed. Unable to connect. \n",
            "\u001b[1;31mError code from Jupyter: 1\n",
            "\u001b[1;31mTraceback (most recent call last):\n",
            "\u001b[1;31m  File \"c:\\Users\\premrasu\\AppData\\Local\\Programs\\Python\\Python310\\lib\\runpy.py\", line 196, in _run_module_as_main\n",
            "\u001b[1;31m    return _run_code(code, main_globals, None,\n",
            "\u001b[1;31m  File \"c:\\Users\\premrasu\\AppData\\Local\\Programs\\Python\\Python310\\lib\\runpy.py\", line 86, in _run_code\n",
            "\u001b[1;31m    exec(code, run_globals)\n",
            "\u001b[1;31m  File \"c:\\Users\\premrasu\\AppData\\Roaming\\Python\\Python310\\Scripts\\jupyter-notebook.EXE\\__main__.py\", line 4, in <module>\n",
            "\u001b[1;31m  File \"C:\\Users\\premrasu\\AppData\\Roaming\\Python\\Python310\\site-packages\\notebook\\notebookapp.py\", line 76, in <module>\n",
            "\u001b[1;31m    from .base.handlers import Template404, RedirectWithParams\n",
            "\u001b[1;31m  File \"C:\\Users\\premrasu\\AppData\\Roaming\\Python\\Python310\\site-packages\\notebook\\base\\handlers.py\", line 35, in <module>\n",
            "\u001b[1;31m    from notebook.utils import is_hidden, url_path_join, url_is_absolute, url_escape, urldecode_unix_socket_path\n",
            "\u001b[1;31mValueError: source code string cannot contain null bytes. \n",
            "\u001b[1;31mView Jupyter <a href='command:jupyter.viewOutput'>log</a> for further details."
          ]
        }
      ],
      "source": [
        "X_train, X_test, y_train, y_test = train_test_split(X, y, test_size=0.2, random_state=42)"
      ]
    },
    {
      "cell_type": "code",
      "execution_count": null,
      "metadata": {
        "colab": {
          "base_uri": "https://localhost:8080/"
        },
        "id": "z6fcA8G_R_Ls",
        "outputId": "4ff965ae-0ff1-4613-d013-7e0c3acb4150"
      },
      "outputs": [
        {
          "ename": "",
          "evalue": "",
          "output_type": "error",
          "traceback": [
            "\u001b[1;31mFailed to start the Kernel. \n",
            "\u001b[1;31mJupyter server crashed. Unable to connect. \n",
            "\u001b[1;31mError code from Jupyter: 1\n",
            "\u001b[1;31mTraceback (most recent call last):\n",
            "\u001b[1;31m  File \"c:\\Users\\premrasu\\AppData\\Local\\Programs\\Python\\Python310\\lib\\runpy.py\", line 196, in _run_module_as_main\n",
            "\u001b[1;31m    return _run_code(code, main_globals, None,\n",
            "\u001b[1;31m  File \"c:\\Users\\premrasu\\AppData\\Local\\Programs\\Python\\Python310\\lib\\runpy.py\", line 86, in _run_code\n",
            "\u001b[1;31m    exec(code, run_globals)\n",
            "\u001b[1;31m  File \"c:\\Users\\premrasu\\AppData\\Roaming\\Python\\Python310\\Scripts\\jupyter-notebook.EXE\\__main__.py\", line 4, in <module>\n",
            "\u001b[1;31m  File \"C:\\Users\\premrasu\\AppData\\Roaming\\Python\\Python310\\site-packages\\notebook\\notebookapp.py\", line 76, in <module>\n",
            "\u001b[1;31m    from .base.handlers import Template404, RedirectWithParams\n",
            "\u001b[1;31m  File \"C:\\Users\\premrasu\\AppData\\Roaming\\Python\\Python310\\site-packages\\notebook\\base\\handlers.py\", line 35, in <module>\n",
            "\u001b[1;31m    from notebook.utils import is_hidden, url_path_join, url_is_absolute, url_escape, urldecode_unix_socket_path\n",
            "\u001b[1;31mValueError: source code string cannot contain null bytes. \n",
            "\u001b[1;31mView Jupyter <a href='command:jupyter.viewOutput'>log</a> for further details."
          ]
        }
      ],
      "source": [
        "from sklearn.tree import DecisionTreeClassifier\n",
        "dt = DecisionTreeClassifier()\n",
        "dt.fit(X_train, y_train)\n",
        "y_pred = dt.predict(X_test)\n",
        "\n",
        "print('--- Classification report for Decision Tree model ---')\n",
        "print(classification_report(y_test, y_pred))\n",
        "     "
      ]
    },
    {
      "cell_type": "code",
      "execution_count": null,
      "metadata": {
        "colab": {
          "base_uri": "https://localhost:8080/",
          "height": 487
        },
        "id": "ouFiIgmuSQqU",
        "outputId": "cf860c3d-0f3b-40c5-cb21-324e9fea3cf4"
      },
      "outputs": [
        {
          "ename": "",
          "evalue": "",
          "output_type": "error",
          "traceback": [
            "\u001b[1;31mFailed to start the Kernel. \n",
            "\u001b[1;31mJupyter server crashed. Unable to connect. \n",
            "\u001b[1;31mError code from Jupyter: 1\n",
            "\u001b[1;31mTraceback (most recent call last):\n",
            "\u001b[1;31m  File \"c:\\Users\\premrasu\\AppData\\Local\\Programs\\Python\\Python310\\lib\\runpy.py\", line 196, in _run_module_as_main\n",
            "\u001b[1;31m    return _run_code(code, main_globals, None,\n",
            "\u001b[1;31m  File \"c:\\Users\\premrasu\\AppData\\Local\\Programs\\Python\\Python310\\lib\\runpy.py\", line 86, in _run_code\n",
            "\u001b[1;31m    exec(code, run_globals)\n",
            "\u001b[1;31m  File \"c:\\Users\\premrasu\\AppData\\Roaming\\Python\\Python310\\Scripts\\jupyter-notebook.EXE\\__main__.py\", line 4, in <module>\n",
            "\u001b[1;31m  File \"C:\\Users\\premrasu\\AppData\\Roaming\\Python\\Python310\\site-packages\\notebook\\notebookapp.py\", line 76, in <module>\n",
            "\u001b[1;31m    from .base.handlers import Template404, RedirectWithParams\n",
            "\u001b[1;31m  File \"C:\\Users\\premrasu\\AppData\\Roaming\\Python\\Python310\\site-packages\\notebook\\base\\handlers.py\", line 35, in <module>\n",
            "\u001b[1;31m    from notebook.utils import is_hidden, url_path_join, url_is_absolute, url_escape, urldecode_unix_socket_path\n",
            "\u001b[1;31mValueError: source code string cannot contain null bytes. \n",
            "\u001b[1;31mView Jupyter <a href='command:jupyter.viewOutput'>log</a> for further details."
          ]
        }
      ],
      "source": [
        "cm = confusion_matrix(y_test, y_pred)\n",
        "\n",
        "plt.figure(figsize=(8,5))\n",
        "axis_labels = ['ham', 'spam']\n",
        "g = sns.heatmap(data=cm, annot=True, cmap=\"Blues\", xticklabels=axis_labels, yticklabels=axis_labels, fmt='g', cbar_kws={\"shrink\": 0.5})\n",
        "p = plt.xlabel('Actual values')\n",
        "p = plt.ylabel('Predicted values')\n",
        "p = plt.title('--- Confusion Matrix for Decision Tree model ---')"
      ]
    },
    {
      "cell_type": "code",
      "execution_count": null,
      "metadata": {
        "colab": {
          "base_uri": "https://localhost:8080/"
        },
        "id": "ffhrvdJ6SXSL",
        "outputId": "c381aa22-3271-4e78-b958-40a970c413a2"
      },
      "outputs": [
        {
          "ename": "",
          "evalue": "",
          "output_type": "error",
          "traceback": [
            "\u001b[1;31mFailed to start the Kernel. \n",
            "\u001b[1;31mJupyter server crashed. Unable to connect. \n",
            "\u001b[1;31mError code from Jupyter: 1\n",
            "\u001b[1;31mTraceback (most recent call last):\n",
            "\u001b[1;31m  File \"c:\\Users\\premrasu\\AppData\\Local\\Programs\\Python\\Python310\\lib\\runpy.py\", line 196, in _run_module_as_main\n",
            "\u001b[1;31m    return _run_code(code, main_globals, None,\n",
            "\u001b[1;31m  File \"c:\\Users\\premrasu\\AppData\\Local\\Programs\\Python\\Python310\\lib\\runpy.py\", line 86, in _run_code\n",
            "\u001b[1;31m    exec(code, run_globals)\n",
            "\u001b[1;31m  File \"c:\\Users\\premrasu\\AppData\\Roaming\\Python\\Python310\\Scripts\\jupyter-notebook.EXE\\__main__.py\", line 4, in <module>\n",
            "\u001b[1;31m  File \"C:\\Users\\premrasu\\AppData\\Roaming\\Python\\Python310\\site-packages\\notebook\\notebookapp.py\", line 76, in <module>\n",
            "\u001b[1;31m    from .base.handlers import Template404, RedirectWithParams\n",
            "\u001b[1;31m  File \"C:\\Users\\premrasu\\AppData\\Roaming\\Python\\Python310\\site-packages\\notebook\\base\\handlers.py\", line 35, in <module>\n",
            "\u001b[1;31m    from notebook.utils import is_hidden, url_path_join, url_is_absolute, url_escape, urldecode_unix_socket_path\n",
            "\u001b[1;31mValueError: source code string cannot contain null bytes. \n",
            "\u001b[1;31mView Jupyter <a href='command:jupyter.viewOutput'>log</a> for further details."
          ]
        }
      ],
      "source": [
        "rf = RandomForestClassifier(n_estimators=20)\n",
        "rf.fit(X_train, y_train)\n",
        "y_pred = rf.predict(X_test)\n",
        "\n",
        "print('--- Classification report for Random Forest model ---')\n",
        "print(classification_report(y_test, y_pred))\n"
      ]
    },
    {
      "cell_type": "code",
      "execution_count": null,
      "metadata": {
        "colab": {
          "base_uri": "https://localhost:8080/",
          "height": 487
        },
        "id": "i-kjJfAJSqPR",
        "outputId": "b6e03136-5fc7-4263-90de-831e317b2bf3"
      },
      "outputs": [
        {
          "ename": "",
          "evalue": "",
          "output_type": "error",
          "traceback": [
            "\u001b[1;31mFailed to start the Kernel. \n",
            "\u001b[1;31mJupyter server crashed. Unable to connect. \n",
            "\u001b[1;31mError code from Jupyter: 1\n",
            "\u001b[1;31mTraceback (most recent call last):\n",
            "\u001b[1;31m  File \"c:\\Users\\premrasu\\AppData\\Local\\Programs\\Python\\Python310\\lib\\runpy.py\", line 196, in _run_module_as_main\n",
            "\u001b[1;31m    return _run_code(code, main_globals, None,\n",
            "\u001b[1;31m  File \"c:\\Users\\premrasu\\AppData\\Local\\Programs\\Python\\Python310\\lib\\runpy.py\", line 86, in _run_code\n",
            "\u001b[1;31m    exec(code, run_globals)\n",
            "\u001b[1;31m  File \"c:\\Users\\premrasu\\AppData\\Roaming\\Python\\Python310\\Scripts\\jupyter-notebook.EXE\\__main__.py\", line 4, in <module>\n",
            "\u001b[1;31m  File \"C:\\Users\\premrasu\\AppData\\Roaming\\Python\\Python310\\site-packages\\notebook\\notebookapp.py\", line 76, in <module>\n",
            "\u001b[1;31m    from .base.handlers import Template404, RedirectWithParams\n",
            "\u001b[1;31m  File \"C:\\Users\\premrasu\\AppData\\Roaming\\Python\\Python310\\site-packages\\notebook\\base\\handlers.py\", line 35, in <module>\n",
            "\u001b[1;31m    from notebook.utils import is_hidden, url_path_join, url_is_absolute, url_escape, urldecode_unix_socket_path\n",
            "\u001b[1;31mValueError: source code string cannot contain null bytes. \n",
            "\u001b[1;31mView Jupyter <a href='command:jupyter.viewOutput'>log</a> for further details."
          ]
        }
      ],
      "source": [
        "cm = confusion_matrix(y_test, y_pred)\n",
        "\n",
        "plt.figure(figsize=(8,5))\n",
        "axis_labels = ['ham', 'spam']\n",
        "g = sns.heatmap(data=cm, annot=True, cmap=\"Blues\", xticklabels=axis_labels, yticklabels=axis_labels, fmt='g', cbar_kws={\"shrink\": 0.5})\n",
        "p = plt.xlabel('Actual values')\n",
        "p = plt.ylabel('Predicted values')\n",
        "p = plt.title('--- Confusion Matrix for Random Forest model ---')"
      ]
    },
    {
      "cell_type": "code",
      "execution_count": null,
      "metadata": {
        "colab": {
          "base_uri": "https://localhost:8080/"
        },
        "id": "7N9v_tcBS0MB",
        "outputId": "d2b42f2d-c391-4795-8070-b02f7661173f"
      },
      "outputs": [
        {
          "ename": "",
          "evalue": "",
          "output_type": "error",
          "traceback": [
            "\u001b[1;31mFailed to start the Kernel. \n",
            "\u001b[1;31mJupyter server crashed. Unable to connect. \n",
            "\u001b[1;31mError code from Jupyter: 1\n",
            "\u001b[1;31mTraceback (most recent call last):\n",
            "\u001b[1;31m  File \"c:\\Users\\premrasu\\AppData\\Local\\Programs\\Python\\Python310\\lib\\runpy.py\", line 196, in _run_module_as_main\n",
            "\u001b[1;31m    return _run_code(code, main_globals, None,\n",
            "\u001b[1;31m  File \"c:\\Users\\premrasu\\AppData\\Local\\Programs\\Python\\Python310\\lib\\runpy.py\", line 86, in _run_code\n",
            "\u001b[1;31m    exec(code, run_globals)\n",
            "\u001b[1;31m  File \"c:\\Users\\premrasu\\AppData\\Roaming\\Python\\Python310\\Scripts\\jupyter-notebook.EXE\\__main__.py\", line 4, in <module>\n",
            "\u001b[1;31m  File \"C:\\Users\\premrasu\\AppData\\Roaming\\Python\\Python310\\site-packages\\notebook\\notebookapp.py\", line 76, in <module>\n",
            "\u001b[1;31m    from .base.handlers import Template404, RedirectWithParams\n",
            "\u001b[1;31m  File \"C:\\Users\\premrasu\\AppData\\Roaming\\Python\\Python310\\site-packages\\notebook\\base\\handlers.py\", line 35, in <module>\n",
            "\u001b[1;31m    from notebook.utils import is_hidden, url_path_join, url_is_absolute, url_escape, urldecode_unix_socket_path\n",
            "\u001b[1;31mValueError: source code string cannot contain null bytes. \n",
            "\u001b[1;31mView Jupyter <a href='command:jupyter.viewOutput'>log</a> for further details."
          ]
        }
      ],
      "source": [
        "categorical = [var for var in df.columns if df[var].dtype=='O']\n",
        "df[categorical].isnull().sum()"
      ]
    },
    {
      "cell_type": "code",
      "execution_count": null,
      "metadata": {
        "colab": {
          "base_uri": "https://localhost:8080/"
        },
        "id": "5BOQ97IgS7Ej",
        "outputId": "4e2ea5a7-4050-42f4-b528-26cbf767d72f"
      },
      "outputs": [
        {
          "ename": "",
          "evalue": "",
          "output_type": "error",
          "traceback": [
            "\u001b[1;31mFailed to start the Kernel. \n",
            "\u001b[1;31mJupyter server crashed. Unable to connect. \n",
            "\u001b[1;31mError code from Jupyter: 1\n",
            "\u001b[1;31mTraceback (most recent call last):\n",
            "\u001b[1;31m  File \"c:\\Users\\premrasu\\AppData\\Local\\Programs\\Python\\Python310\\lib\\runpy.py\", line 196, in _run_module_as_main\n",
            "\u001b[1;31m    return _run_code(code, main_globals, None,\n",
            "\u001b[1;31m  File \"c:\\Users\\premrasu\\AppData\\Local\\Programs\\Python\\Python310\\lib\\runpy.py\", line 86, in _run_code\n",
            "\u001b[1;31m    exec(code, run_globals)\n",
            "\u001b[1;31m  File \"c:\\Users\\premrasu\\AppData\\Roaming\\Python\\Python310\\Scripts\\jupyter-notebook.EXE\\__main__.py\", line 4, in <module>\n",
            "\u001b[1;31m  File \"C:\\Users\\premrasu\\AppData\\Roaming\\Python\\Python310\\site-packages\\notebook\\notebookapp.py\", line 76, in <module>\n",
            "\u001b[1;31m    from .base.handlers import Template404, RedirectWithParams\n",
            "\u001b[1;31m  File \"C:\\Users\\premrasu\\AppData\\Roaming\\Python\\Python310\\site-packages\\notebook\\base\\handlers.py\", line 35, in <module>\n",
            "\u001b[1;31m    from notebook.utils import is_hidden, url_path_join, url_is_absolute, url_escape, urldecode_unix_socket_path\n",
            "\u001b[1;31mValueError: source code string cannot contain null bytes. \n",
            "\u001b[1;31mView Jupyter <a href='command:jupyter.viewOutput'>log</a> for further details."
          ]
        }
      ],
      "source": [
        "for var in categorical: \n",
        "    \n",
        "    print(df[var].value_counts())"
      ]
    },
    {
      "cell_type": "code",
      "execution_count": null,
      "metadata": {
        "colab": {
          "base_uri": "https://localhost:8080/"
        },
        "id": "FnTHbOlhTAFk",
        "outputId": "7070589e-91af-4148-c553-e2bd28260722"
      },
      "outputs": [
        {
          "ename": "",
          "evalue": "",
          "output_type": "error",
          "traceback": [
            "\u001b[1;31mFailed to start the Kernel. \n",
            "\u001b[1;31mJupyter server crashed. Unable to connect. \n",
            "\u001b[1;31mError code from Jupyter: 1\n",
            "\u001b[1;31mTraceback (most recent call last):\n",
            "\u001b[1;31m  File \"c:\\Users\\premrasu\\AppData\\Local\\Programs\\Python\\Python310\\lib\\runpy.py\", line 196, in _run_module_as_main\n",
            "\u001b[1;31m    return _run_code(code, main_globals, None,\n",
            "\u001b[1;31m  File \"c:\\Users\\premrasu\\AppData\\Local\\Programs\\Python\\Python310\\lib\\runpy.py\", line 86, in _run_code\n",
            "\u001b[1;31m    exec(code, run_globals)\n",
            "\u001b[1;31m  File \"c:\\Users\\premrasu\\AppData\\Roaming\\Python\\Python310\\Scripts\\jupyter-notebook.EXE\\__main__.py\", line 4, in <module>\n",
            "\u001b[1;31m  File \"C:\\Users\\premrasu\\AppData\\Roaming\\Python\\Python310\\site-packages\\notebook\\notebookapp.py\", line 76, in <module>\n",
            "\u001b[1;31m    from .base.handlers import Template404, RedirectWithParams\n",
            "\u001b[1;31m  File \"C:\\Users\\premrasu\\AppData\\Roaming\\Python\\Python310\\site-packages\\notebook\\base\\handlers.py\", line 35, in <module>\n",
            "\u001b[1;31m    from notebook.utils import is_hidden, url_path_join, url_is_absolute, url_escape, urldecode_unix_socket_path\n",
            "\u001b[1;31mValueError: source code string cannot contain null bytes. \n",
            "\u001b[1;31mView Jupyter <a href='command:jupyter.viewOutput'>log</a> for further details."
          ]
        }
      ],
      "source": [
        "numerical = [var for var in df.columns if df[var].dtype!='O']\n",
        "\n",
        "print('There are {} numerical variables\\n'.format(len(numerical)))\n",
        "\n",
        "print('The numerical variables are :', numerical)\n",
        "     "
      ]
    },
    {
      "cell_type": "code",
      "execution_count": null,
      "metadata": {
        "colab": {
          "base_uri": "https://localhost:8080/",
          "height": 206
        },
        "id": "-4FmtTM-TLrv",
        "outputId": "4c84fdef-a80b-4041-f060-eb1c02af2498"
      },
      "outputs": [
        {
          "ename": "",
          "evalue": "",
          "output_type": "error",
          "traceback": [
            "\u001b[1;31mFailed to start the Kernel. \n",
            "\u001b[1;31mJupyter server crashed. Unable to connect. \n",
            "\u001b[1;31mError code from Jupyter: 1\n",
            "\u001b[1;31mTraceback (most recent call last):\n",
            "\u001b[1;31m  File \"c:\\Users\\premrasu\\AppData\\Local\\Programs\\Python\\Python310\\lib\\runpy.py\", line 196, in _run_module_as_main\n",
            "\u001b[1;31m    return _run_code(code, main_globals, None,\n",
            "\u001b[1;31m  File \"c:\\Users\\premrasu\\AppData\\Local\\Programs\\Python\\Python310\\lib\\runpy.py\", line 86, in _run_code\n",
            "\u001b[1;31m    exec(code, run_globals)\n",
            "\u001b[1;31m  File \"c:\\Users\\premrasu\\AppData\\Roaming\\Python\\Python310\\Scripts\\jupyter-notebook.EXE\\__main__.py\", line 4, in <module>\n",
            "\u001b[1;31m  File \"C:\\Users\\premrasu\\AppData\\Roaming\\Python\\Python310\\site-packages\\notebook\\notebookapp.py\", line 76, in <module>\n",
            "\u001b[1;31m    from .base.handlers import Template404, RedirectWithParams\n",
            "\u001b[1;31m  File \"C:\\Users\\premrasu\\AppData\\Roaming\\Python\\Python310\\site-packages\\notebook\\base\\handlers.py\", line 35, in <module>\n",
            "\u001b[1;31m    from notebook.utils import is_hidden, url_path_join, url_is_absolute, url_escape, urldecode_unix_socket_path\n",
            "\u001b[1;31mValueError: source code string cannot contain null bytes. \n",
            "\u001b[1;31mView Jupyter <a href='command:jupyter.viewOutput'>log</a> for further details."
          ]
        }
      ],
      "source": [
        "df[numerical].head()"
      ]
    },
    {
      "cell_type": "code",
      "execution_count": null,
      "metadata": {
        "id": "C4NqYAesTPD5"
      },
      "outputs": [
        {
          "ename": "",
          "evalue": "",
          "output_type": "error",
          "traceback": [
            "\u001b[1;31mFailed to start the Kernel. \n",
            "\u001b[1;31mJupyter server crashed. Unable to connect. \n",
            "\u001b[1;31mError code from Jupyter: 1\n",
            "\u001b[1;31mTraceback (most recent call last):\n",
            "\u001b[1;31m  File \"c:\\Users\\premrasu\\AppData\\Local\\Programs\\Python\\Python310\\lib\\runpy.py\", line 196, in _run_module_as_main\n",
            "\u001b[1;31m    return _run_code(code, main_globals, None,\n",
            "\u001b[1;31m  File \"c:\\Users\\premrasu\\AppData\\Local\\Programs\\Python\\Python310\\lib\\runpy.py\", line 86, in _run_code\n",
            "\u001b[1;31m    exec(code, run_globals)\n",
            "\u001b[1;31m  File \"c:\\Users\\premrasu\\AppData\\Roaming\\Python\\Python310\\Scripts\\jupyter-notebook.EXE\\__main__.py\", line 4, in <module>\n",
            "\u001b[1;31m  File \"C:\\Users\\premrasu\\AppData\\Roaming\\Python\\Python310\\site-packages\\notebook\\notebookapp.py\", line 76, in <module>\n",
            "\u001b[1;31m    from .base.handlers import Template404, RedirectWithParams\n",
            "\u001b[1;31m  File \"C:\\Users\\premrasu\\AppData\\Roaming\\Python\\Python310\\site-packages\\notebook\\base\\handlers.py\", line 35, in <module>\n",
            "\u001b[1;31m    from notebook.utils import is_hidden, url_path_join, url_is_absolute, url_escape, urldecode_unix_socket_path\n",
            "\u001b[1;31mValueError: source code string cannot contain null bytes. \n",
            "\u001b[1;31mView Jupyter <a href='command:jupyter.viewOutput'>log</a> for further details."
          ]
        }
      ],
      "source": [
        "from tensorflow.keras.models import Sequential\n",
        "from tensorflow.keras.layers import Dense"
      ]
    },
    {
      "cell_type": "code",
      "execution_count": null,
      "metadata": {
        "id": "aAz1bfzJTaZV"
      },
      "outputs": [
        {
          "ename": "",
          "evalue": "",
          "output_type": "error",
          "traceback": [
            "\u001b[1;31mFailed to start the Kernel. \n",
            "\u001b[1;31mJupyter server crashed. Unable to connect. \n",
            "\u001b[1;31mError code from Jupyter: 1\n",
            "\u001b[1;31mTraceback (most recent call last):\n",
            "\u001b[1;31m  File \"c:\\Users\\premrasu\\AppData\\Local\\Programs\\Python\\Python310\\lib\\runpy.py\", line 196, in _run_module_as_main\n",
            "\u001b[1;31m    return _run_code(code, main_globals, None,\n",
            "\u001b[1;31m  File \"c:\\Users\\premrasu\\AppData\\Local\\Programs\\Python\\Python310\\lib\\runpy.py\", line 86, in _run_code\n",
            "\u001b[1;31m    exec(code, run_globals)\n",
            "\u001b[1;31m  File \"c:\\Users\\premrasu\\AppData\\Roaming\\Python\\Python310\\Scripts\\jupyter-notebook.EXE\\__main__.py\", line 4, in <module>\n",
            "\u001b[1;31m  File \"C:\\Users\\premrasu\\AppData\\Roaming\\Python\\Python310\\site-packages\\notebook\\notebookapp.py\", line 76, in <module>\n",
            "\u001b[1;31m    from .base.handlers import Template404, RedirectWithParams\n",
            "\u001b[1;31m  File \"C:\\Users\\premrasu\\AppData\\Roaming\\Python\\Python310\\site-packages\\notebook\\base\\handlers.py\", line 35, in <module>\n",
            "\u001b[1;31m    from notebook.utils import is_hidden, url_path_join, url_is_absolute, url_escape, urldecode_unix_socket_path\n",
            "\u001b[1;31mValueError: source code string cannot contain null bytes. \n",
            "\u001b[1;31mView Jupyter <a href='command:jupyter.viewOutput'>log</a> for further details."
          ]
        }
      ],
      "source": [
        "model=Sequential()"
      ]
    },
    {
      "cell_type": "code",
      "execution_count": null,
      "metadata": {
        "colab": {
          "base_uri": "https://localhost:8080/"
        },
        "id": "Tzr6YXMvTeS0",
        "outputId": "50f1659e-2b4a-453d-8d8b-902e341deb5d"
      },
      "outputs": [
        {
          "ename": "",
          "evalue": "",
          "output_type": "error",
          "traceback": [
            "\u001b[1;31mFailed to start the Kernel. \n",
            "\u001b[1;31mJupyter server crashed. Unable to connect. \n",
            "\u001b[1;31mError code from Jupyter: 1\n",
            "\u001b[1;31mTraceback (most recent call last):\n",
            "\u001b[1;31m  File \"c:\\Users\\premrasu\\AppData\\Local\\Programs\\Python\\Python310\\lib\\runpy.py\", line 196, in _run_module_as_main\n",
            "\u001b[1;31m    return _run_code(code, main_globals, None,\n",
            "\u001b[1;31m  File \"c:\\Users\\premrasu\\AppData\\Local\\Programs\\Python\\Python310\\lib\\runpy.py\", line 86, in _run_code\n",
            "\u001b[1;31m    exec(code, run_globals)\n",
            "\u001b[1;31m  File \"c:\\Users\\premrasu\\AppData\\Roaming\\Python\\Python310\\Scripts\\jupyter-notebook.EXE\\__main__.py\", line 4, in <module>\n",
            "\u001b[1;31m  File \"C:\\Users\\premrasu\\AppData\\Roaming\\Python\\Python310\\site-packages\\notebook\\notebookapp.py\", line 76, in <module>\n",
            "\u001b[1;31m    from .base.handlers import Template404, RedirectWithParams\n",
            "\u001b[1;31m  File \"C:\\Users\\premrasu\\AppData\\Roaming\\Python\\Python310\\site-packages\\notebook\\base\\handlers.py\", line 35, in <module>\n",
            "\u001b[1;31m    from notebook.utils import is_hidden, url_path_join, url_is_absolute, url_escape, urldecode_unix_socket_path\n",
            "\u001b[1;31mValueError: source code string cannot contain null bytes. \n",
            "\u001b[1;31mView Jupyter <a href='command:jupyter.viewOutput'>log</a> for further details."
          ]
        }
      ],
      "source": [
        "X_train.shape"
      ]
    },
    {
      "cell_type": "code",
      "execution_count": null,
      "metadata": {
        "id": "hWf_RG8lTiId"
      },
      "outputs": [
        {
          "ename": "",
          "evalue": "",
          "output_type": "error",
          "traceback": [
            "\u001b[1;31mFailed to start the Kernel. \n",
            "\u001b[1;31mJupyter server crashed. Unable to connect. \n",
            "\u001b[1;31mError code from Jupyter: 1\n",
            "\u001b[1;31mTraceback (most recent call last):\n",
            "\u001b[1;31m  File \"c:\\Users\\premrasu\\AppData\\Local\\Programs\\Python\\Python310\\lib\\runpy.py\", line 196, in _run_module_as_main\n",
            "\u001b[1;31m    return _run_code(code, main_globals, None,\n",
            "\u001b[1;31m  File \"c:\\Users\\premrasu\\AppData\\Local\\Programs\\Python\\Python310\\lib\\runpy.py\", line 86, in _run_code\n",
            "\u001b[1;31m    exec(code, run_globals)\n",
            "\u001b[1;31m  File \"c:\\Users\\premrasu\\AppData\\Roaming\\Python\\Python310\\Scripts\\jupyter-notebook.EXE\\__main__.py\", line 4, in <module>\n",
            "\u001b[1;31m  File \"C:\\Users\\premrasu\\AppData\\Roaming\\Python\\Python310\\site-packages\\notebook\\notebookapp.py\", line 76, in <module>\n",
            "\u001b[1;31m    from .base.handlers import Template404, RedirectWithParams\n",
            "\u001b[1;31m  File \"C:\\Users\\premrasu\\AppData\\Roaming\\Python\\Python310\\site-packages\\notebook\\base\\handlers.py\", line 35, in <module>\n",
            "\u001b[1;31m    from notebook.utils import is_hidden, url_path_join, url_is_absolute, url_escape, urldecode_unix_socket_path\n",
            "\u001b[1;31mValueError: source code string cannot contain null bytes. \n",
            "\u001b[1;31mView Jupyter <a href='command:jupyter.viewOutput'>log</a> for further details."
          ]
        }
      ],
      "source": [
        "model.add(Dense(units=X_train_res.shape[1],activation='relu',kernel_initializer=\"random_uniform\"))"
      ]
    },
    {
      "cell_type": "code",
      "execution_count": null,
      "metadata": {
        "id": "3FiOpY8CTpJI"
      },
      "outputs": [
        {
          "ename": "",
          "evalue": "",
          "output_type": "error",
          "traceback": [
            "\u001b[1;31mFailed to start the Kernel. \n",
            "\u001b[1;31mJupyter server crashed. Unable to connect. \n",
            "\u001b[1;31mError code from Jupyter: 1\n",
            "\u001b[1;31mTraceback (most recent call last):\n",
            "\u001b[1;31m  File \"c:\\Users\\premrasu\\AppData\\Local\\Programs\\Python\\Python310\\lib\\runpy.py\", line 196, in _run_module_as_main\n",
            "\u001b[1;31m    return _run_code(code, main_globals, None,\n",
            "\u001b[1;31m  File \"c:\\Users\\premrasu\\AppData\\Local\\Programs\\Python\\Python310\\lib\\runpy.py\", line 86, in _run_code\n",
            "\u001b[1;31m    exec(code, run_globals)\n",
            "\u001b[1;31m  File \"c:\\Users\\premrasu\\AppData\\Roaming\\Python\\Python310\\Scripts\\jupyter-notebook.EXE\\__main__.py\", line 4, in <module>\n",
            "\u001b[1;31m  File \"C:\\Users\\premrasu\\AppData\\Roaming\\Python\\Python310\\site-packages\\notebook\\notebookapp.py\", line 76, in <module>\n",
            "\u001b[1;31m    from .base.handlers import Template404, RedirectWithParams\n",
            "\u001b[1;31m  File \"C:\\Users\\premrasu\\AppData\\Roaming\\Python\\Python310\\site-packages\\notebook\\base\\handlers.py\", line 35, in <module>\n",
            "\u001b[1;31m    from notebook.utils import is_hidden, url_path_join, url_is_absolute, url_escape, urldecode_unix_socket_path\n",
            "\u001b[1;31mValueError: source code string cannot contain null bytes. \n",
            "\u001b[1;31mView Jupyter <a href='command:jupyter.viewOutput'>log</a> for further details."
          ]
        }
      ],
      "source": [
        "\n",
        "model.add(Dense(units=100,activation=\"relu\",kernel_initializer=\"random_uniform\"))"
      ]
    },
    {
      "cell_type": "code",
      "execution_count": null,
      "metadata": {
        "id": "7LKJVbpsTszn"
      },
      "outputs": [
        {
          "ename": "",
          "evalue": "",
          "output_type": "error",
          "traceback": [
            "\u001b[1;31mFailed to start the Kernel. \n",
            "\u001b[1;31mJupyter server crashed. Unable to connect. \n",
            "\u001b[1;31mError code from Jupyter: 1\n",
            "\u001b[1;31mTraceback (most recent call last):\n",
            "\u001b[1;31m  File \"c:\\Users\\premrasu\\AppData\\Local\\Programs\\Python\\Python310\\lib\\runpy.py\", line 196, in _run_module_as_main\n",
            "\u001b[1;31m    return _run_code(code, main_globals, None,\n",
            "\u001b[1;31m  File \"c:\\Users\\premrasu\\AppData\\Local\\Programs\\Python\\Python310\\lib\\runpy.py\", line 86, in _run_code\n",
            "\u001b[1;31m    exec(code, run_globals)\n",
            "\u001b[1;31m  File \"c:\\Users\\premrasu\\AppData\\Roaming\\Python\\Python310\\Scripts\\jupyter-notebook.EXE\\__main__.py\", line 4, in <module>\n",
            "\u001b[1;31m  File \"C:\\Users\\premrasu\\AppData\\Roaming\\Python\\Python310\\site-packages\\notebook\\notebookapp.py\", line 76, in <module>\n",
            "\u001b[1;31m    from .base.handlers import Template404, RedirectWithParams\n",
            "\u001b[1;31m  File \"C:\\Users\\premrasu\\AppData\\Roaming\\Python\\Python310\\site-packages\\notebook\\base\\handlers.py\", line 35, in <module>\n",
            "\u001b[1;31m    from notebook.utils import is_hidden, url_path_join, url_is_absolute, url_escape, urldecode_unix_socket_path\n",
            "\u001b[1;31mValueError: source code string cannot contain null bytes. \n",
            "\u001b[1;31mView Jupyter <a href='command:jupyter.viewOutput'>log</a> for further details."
          ]
        }
      ],
      "source": [
        "model.add(Dense(units=100,activation=\"relu\",kernel_initializer=\"random_uniform\"))"
      ]
    },
    {
      "cell_type": "code",
      "execution_count": null,
      "metadata": {
        "id": "LPmEu8KZTwSa"
      },
      "outputs": [
        {
          "ename": "",
          "evalue": "",
          "output_type": "error",
          "traceback": [
            "\u001b[1;31mFailed to start the Kernel. \n",
            "\u001b[1;31mJupyter server crashed. Unable to connect. \n",
            "\u001b[1;31mError code from Jupyter: 1\n",
            "\u001b[1;31mTraceback (most recent call last):\n",
            "\u001b[1;31m  File \"c:\\Users\\premrasu\\AppData\\Local\\Programs\\Python\\Python310\\lib\\runpy.py\", line 196, in _run_module_as_main\n",
            "\u001b[1;31m    return _run_code(code, main_globals, None,\n",
            "\u001b[1;31m  File \"c:\\Users\\premrasu\\AppData\\Local\\Programs\\Python\\Python310\\lib\\runpy.py\", line 86, in _run_code\n",
            "\u001b[1;31m    exec(code, run_globals)\n",
            "\u001b[1;31m  File \"c:\\Users\\premrasu\\AppData\\Roaming\\Python\\Python310\\Scripts\\jupyter-notebook.EXE\\__main__.py\", line 4, in <module>\n",
            "\u001b[1;31m  File \"C:\\Users\\premrasu\\AppData\\Roaming\\Python\\Python310\\site-packages\\notebook\\notebookapp.py\", line 76, in <module>\n",
            "\u001b[1;31m    from .base.handlers import Template404, RedirectWithParams\n",
            "\u001b[1;31m  File \"C:\\Users\\premrasu\\AppData\\Roaming\\Python\\Python310\\site-packages\\notebook\\base\\handlers.py\", line 35, in <module>\n",
            "\u001b[1;31m    from notebook.utils import is_hidden, url_path_join, url_is_absolute, url_escape, urldecode_unix_socket_path\n",
            "\u001b[1;31mValueError: source code string cannot contain null bytes. \n",
            "\u001b[1;31mView Jupyter <a href='command:jupyter.viewOutput'>log</a> for further details."
          ]
        }
      ],
      "source": [
        "model.add(Dense(units=100,activation=\"sigmoid\"))"
      ]
    },
    {
      "cell_type": "code",
      "execution_count": null,
      "metadata": {
        "id": "saRsWenqTzhG"
      },
      "outputs": [
        {
          "ename": "",
          "evalue": "",
          "output_type": "error",
          "traceback": [
            "\u001b[1;31mFailed to start the Kernel. \n",
            "\u001b[1;31mJupyter server crashed. Unable to connect. \n",
            "\u001b[1;31mError code from Jupyter: 1\n",
            "\u001b[1;31mTraceback (most recent call last):\n",
            "\u001b[1;31m  File \"c:\\Users\\premrasu\\AppData\\Local\\Programs\\Python\\Python310\\lib\\runpy.py\", line 196, in _run_module_as_main\n",
            "\u001b[1;31m    return _run_code(code, main_globals, None,\n",
            "\u001b[1;31m  File \"c:\\Users\\premrasu\\AppData\\Local\\Programs\\Python\\Python310\\lib\\runpy.py\", line 86, in _run_code\n",
            "\u001b[1;31m    exec(code, run_globals)\n",
            "\u001b[1;31m  File \"c:\\Users\\premrasu\\AppData\\Roaming\\Python\\Python310\\Scripts\\jupyter-notebook.EXE\\__main__.py\", line 4, in <module>\n",
            "\u001b[1;31m  File \"C:\\Users\\premrasu\\AppData\\Roaming\\Python\\Python310\\site-packages\\notebook\\notebookapp.py\", line 76, in <module>\n",
            "\u001b[1;31m    from .base.handlers import Template404, RedirectWithParams\n",
            "\u001b[1;31m  File \"C:\\Users\\premrasu\\AppData\\Roaming\\Python\\Python310\\site-packages\\notebook\\base\\handlers.py\", line 35, in <module>\n",
            "\u001b[1;31m    from notebook.utils import is_hidden, url_path_join, url_is_absolute, url_escape, urldecode_unix_socket_path\n",
            "\u001b[1;31mValueError: source code string cannot contain null bytes. \n",
            "\u001b[1;31mView Jupyter <a href='command:jupyter.viewOutput'>log</a> for further details."
          ]
        }
      ],
      "source": [
        "\n",
        "model.compile(optimizer=\"adam\",loss=\"binary_crossentropy\",metrics=['accuracy'])"
      ]
    },
    {
      "cell_type": "code",
      "execution_count": null,
      "metadata": {
        "id": "Im22KV1xT4Fi"
      },
      "outputs": [
        {
          "ename": "",
          "evalue": "",
          "output_type": "error",
          "traceback": [
            "\u001b[1;31mFailed to start the Kernel. \n",
            "\u001b[1;31mJupyter server crashed. Unable to connect. \n",
            "\u001b[1;31mError code from Jupyter: 1\n",
            "\u001b[1;31mTraceback (most recent call last):\n",
            "\u001b[1;31m  File \"c:\\Users\\premrasu\\AppData\\Local\\Programs\\Python\\Python310\\lib\\runpy.py\", line 196, in _run_module_as_main\n",
            "\u001b[1;31m    return _run_code(code, main_globals, None,\n",
            "\u001b[1;31m  File \"c:\\Users\\premrasu\\AppData\\Local\\Programs\\Python\\Python310\\lib\\runpy.py\", line 86, in _run_code\n",
            "\u001b[1;31m    exec(code, run_globals)\n",
            "\u001b[1;31m  File \"c:\\Users\\premrasu\\AppData\\Roaming\\Python\\Python310\\Scripts\\jupyter-notebook.EXE\\__main__.py\", line 4, in <module>\n",
            "\u001b[1;31m  File \"C:\\Users\\premrasu\\AppData\\Roaming\\Python\\Python310\\site-packages\\notebook\\notebookapp.py\", line 76, in <module>\n",
            "\u001b[1;31m    from .base.handlers import Template404, RedirectWithParams\n",
            "\u001b[1;31m  File \"C:\\Users\\premrasu\\AppData\\Roaming\\Python\\Python310\\site-packages\\notebook\\base\\handlers.py\", line 35, in <module>\n",
            "\u001b[1;31m    from notebook.utils import is_hidden, url_path_join, url_is_absolute, url_escape, urldecode_unix_socket_path\n",
            "\u001b[1;31mValueError: source code string cannot contain null bytes. \n",
            "\u001b[1;31mView Jupyter <a href='command:jupyter.viewOutput'>log</a> for further details."
          ]
        }
      ],
      "source": [
        "import numpy as np\n",
        "y_pr=np.where(y_pred>0.5,1,0)"
      ]
    },
    {
      "cell_type": "code",
      "execution_count": null,
      "metadata": {
        "colab": {
          "base_uri": "https://localhost:8080/"
        },
        "id": "6zXs25HAT7je",
        "outputId": "c6f00ffa-1587-4332-d50b-c42fdddcd58b"
      },
      "outputs": [
        {
          "ename": "",
          "evalue": "",
          "output_type": "error",
          "traceback": [
            "\u001b[1;31mFailed to start the Kernel. \n",
            "\u001b[1;31mJupyter server crashed. Unable to connect. \n",
            "\u001b[1;31mError code from Jupyter: 1\n",
            "\u001b[1;31mTraceback (most recent call last):\n",
            "\u001b[1;31m  File \"c:\\Users\\premrasu\\AppData\\Local\\Programs\\Python\\Python310\\lib\\runpy.py\", line 196, in _run_module_as_main\n",
            "\u001b[1;31m    return _run_code(code, main_globals, None,\n",
            "\u001b[1;31m  File \"c:\\Users\\premrasu\\AppData\\Local\\Programs\\Python\\Python310\\lib\\runpy.py\", line 86, in _run_code\n",
            "\u001b[1;31m    exec(code, run_globals)\n",
            "\u001b[1;31m  File \"c:\\Users\\premrasu\\AppData\\Roaming\\Python\\Python310\\Scripts\\jupyter-notebook.EXE\\__main__.py\", line 4, in <module>\n",
            "\u001b[1;31m  File \"C:\\Users\\premrasu\\AppData\\Roaming\\Python\\Python310\\site-packages\\notebook\\notebookapp.py\", line 76, in <module>\n",
            "\u001b[1;31m    from .base.handlers import Template404, RedirectWithParams\n",
            "\u001b[1;31m  File \"C:\\Users\\premrasu\\AppData\\Roaming\\Python\\Python310\\site-packages\\notebook\\base\\handlers.py\", line 35, in <module>\n",
            "\u001b[1;31m    from notebook.utils import is_hidden, url_path_join, url_is_absolute, url_escape, urldecode_unix_socket_path\n",
            "\u001b[1;31mValueError: source code string cannot contain null bytes. \n",
            "\u001b[1;31mView Jupyter <a href='command:jupyter.viewOutput'>log</a> for further details."
          ]
        }
      ],
      "source": [
        "y_pred=model.predict(X_test)"
      ]
    },
    {
      "cell_type": "code",
      "execution_count": null,
      "metadata": {
        "colab": {
          "base_uri": "https://localhost:8080/"
        },
        "id": "mnH0ovCMUGNV",
        "outputId": "13618d6f-98a1-47a4-a9ab-ae6d893d1d0f"
      },
      "outputs": [
        {
          "ename": "",
          "evalue": "",
          "output_type": "error",
          "traceback": [
            "\u001b[1;31mFailed to start the Kernel. \n",
            "\u001b[1;31mJupyter server crashed. Unable to connect. \n",
            "\u001b[1;31mError code from Jupyter: 1\n",
            "\u001b[1;31mTraceback (most recent call last):\n",
            "\u001b[1;31m  File \"c:\\Users\\premrasu\\AppData\\Local\\Programs\\Python\\Python310\\lib\\runpy.py\", line 196, in _run_module_as_main\n",
            "\u001b[1;31m    return _run_code(code, main_globals, None,\n",
            "\u001b[1;31m  File \"c:\\Users\\premrasu\\AppData\\Local\\Programs\\Python\\Python310\\lib\\runpy.py\", line 86, in _run_code\n",
            "\u001b[1;31m    exec(code, run_globals)\n",
            "\u001b[1;31m  File \"c:\\Users\\premrasu\\AppData\\Roaming\\Python\\Python310\\Scripts\\jupyter-notebook.EXE\\__main__.py\", line 4, in <module>\n",
            "\u001b[1;31m  File \"C:\\Users\\premrasu\\AppData\\Roaming\\Python\\Python310\\site-packages\\notebook\\notebookapp.py\", line 76, in <module>\n",
            "\u001b[1;31m    from .base.handlers import Template404, RedirectWithParams\n",
            "\u001b[1;31m  File \"C:\\Users\\premrasu\\AppData\\Roaming\\Python\\Python310\\site-packages\\notebook\\base\\handlers.py\", line 35, in <module>\n",
            "\u001b[1;31m    from notebook.utils import is_hidden, url_path_join, url_is_absolute, url_escape, urldecode_unix_socket_path\n",
            "\u001b[1;31mValueError: source code string cannot contain null bytes. \n",
            "\u001b[1;31mView Jupyter <a href='command:jupyter.viewOutput'>log</a> for further details."
          ]
        }
      ],
      "source": [
        "y_test"
      ]
    },
    {
      "cell_type": "code",
      "execution_count": null,
      "metadata": {
        "id": "q4vtSSkEUNjG"
      },
      "outputs": [
        {
          "ename": "",
          "evalue": "",
          "output_type": "error",
          "traceback": [
            "\u001b[1;31mFailed to start the Kernel. \n",
            "\u001b[1;31mJupyter server crashed. Unable to connect. \n",
            "\u001b[1;31mError code from Jupyter: 1\n",
            "\u001b[1;31mTraceback (most recent call last):\n",
            "\u001b[1;31m  File \"c:\\Users\\premrasu\\AppData\\Local\\Programs\\Python\\Python310\\lib\\runpy.py\", line 196, in _run_module_as_main\n",
            "\u001b[1;31m    return _run_code(code, main_globals, None,\n",
            "\u001b[1;31m  File \"c:\\Users\\premrasu\\AppData\\Local\\Programs\\Python\\Python310\\lib\\runpy.py\", line 86, in _run_code\n",
            "\u001b[1;31m    exec(code, run_globals)\n",
            "\u001b[1;31m  File \"c:\\Users\\premrasu\\AppData\\Roaming\\Python\\Python310\\Scripts\\jupyter-notebook.EXE\\__main__.py\", line 4, in <module>\n",
            "\u001b[1;31m  File \"C:\\Users\\premrasu\\AppData\\Roaming\\Python\\Python310\\site-packages\\notebook\\notebookapp.py\", line 76, in <module>\n",
            "\u001b[1;31m    from .base.handlers import Template404, RedirectWithParams\n",
            "\u001b[1;31m  File \"C:\\Users\\premrasu\\AppData\\Roaming\\Python\\Python310\\site-packages\\notebook\\base\\handlers.py\", line 35, in <module>\n",
            "\u001b[1;31m    from notebook.utils import is_hidden, url_path_join, url_is_absolute, url_escape, urldecode_unix_socket_path\n",
            "\u001b[1;31mValueError: source code string cannot contain null bytes. \n",
            "\u001b[1;31mView Jupyter <a href='command:jupyter.viewOutput'>log</a> for further details."
          ]
        }
      ],
      "source": [
        "import re\n",
        "from keras.models import load_model \n",
        "def new_review(new_review):\n",
        "  new_review=new_review\n",
        "  new_review=re.sub('[^a-zA-Z]', ' ',new_review)\n",
        "  new_review=new_review.lower()\n",
        "  new_review=new_review.split()\n",
        "  ps=PorterStemmer()\n",
        "  all_stopwords=stopwords.words('english')\n",
        "  all_stopwords.remove('not')\n",
        "  new_review=[ps.stem(word)for word in new_review if not word in set(all_stopwords)]\n",
        "  new_review=' '.join(new_review)\n",
        "  new_corpus=[new_review]\n",
        "  new_X_test=cv.transform(new_corpus).toarray()\n",
        "  print(new_X_test)\n",
        "  new_y_pred=loaded_model(new_X_test)\n",
        "  print(new_y_pred)\n",
        "  new_X_pred=np.where(new_y_predict>0,5,1,0)\n",
        "  return new_y_predict\n",
        "  new_review=new_review(str(input(\"enter the new review...\")))\n"
      ]
    },
    {
      "cell_type": "code",
      "execution_count": null,
      "metadata": {
        "colab": {
          "base_uri": "https://localhost:8080/"
        },
        "id": "-AfgxkH0UUPs",
        "outputId": "a0d82177-75ca-4c56-d575-f36addae1571"
      },
      "outputs": [
        {
          "ename": "",
          "evalue": "",
          "output_type": "error",
          "traceback": [
            "\u001b[1;31mFailed to start the Kernel. \n",
            "\u001b[1;31mJupyter server crashed. Unable to connect. \n",
            "\u001b[1;31mError code from Jupyter: 1\n",
            "\u001b[1;31mTraceback (most recent call last):\n",
            "\u001b[1;31m  File \"c:\\Users\\premrasu\\AppData\\Local\\Programs\\Python\\Python310\\lib\\runpy.py\", line 196, in _run_module_as_main\n",
            "\u001b[1;31m    return _run_code(code, main_globals, None,\n",
            "\u001b[1;31m  File \"c:\\Users\\premrasu\\AppData\\Local\\Programs\\Python\\Python310\\lib\\runpy.py\", line 86, in _run_code\n",
            "\u001b[1;31m    exec(code, run_globals)\n",
            "\u001b[1;31m  File \"c:\\Users\\premrasu\\AppData\\Roaming\\Python\\Python310\\Scripts\\jupyter-notebook.EXE\\__main__.py\", line 4, in <module>\n",
            "\u001b[1;31m  File \"C:\\Users\\premrasu\\AppData\\Roaming\\Python\\Python310\\site-packages\\notebook\\notebookapp.py\", line 76, in <module>\n",
            "\u001b[1;31m    from .base.handlers import Template404, RedirectWithParams\n",
            "\u001b[1;31m  File \"C:\\Users\\premrasu\\AppData\\Roaming\\Python\\Python310\\site-packages\\notebook\\base\\handlers.py\", line 35, in <module>\n",
            "\u001b[1;31m    from notebook.utils import is_hidden, url_path_join, url_is_absolute, url_escape, urldecode_unix_socket_path\n",
            "\u001b[1;31mValueError: source code string cannot contain null bytes. \n",
            "\u001b[1;31mView Jupyter <a href='command:jupyter.viewOutput'>log</a> for further details."
          ]
        }
      ],
      "source": [
        "\n",
        "from sklearn.metrics import confusion_matrix,accuracy_score\n",
        "cm=confusion_matrix(y_test,y_pr)\n",
        "score=accuracy_score(y_test,y_pr)\n",
        "print(cm)\n",
        "print(\"Accuracy Score Is:-\",score*100)"
      ]
    }
  ],
  "metadata": {
    "colab": {
      "provenance": []
    },
    "kernelspec": {
      "display_name": "Python 3",
      "name": "python3"
    },
    "language_info": {
      "name": "python",
      "version": "3.10.6"
    }
  },
  "nbformat": 4,
  "nbformat_minor": 0
}
